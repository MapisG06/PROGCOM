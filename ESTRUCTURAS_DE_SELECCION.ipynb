{
  "nbformat": 4,
  "nbformat_minor": 0,
  "metadata": {
    "colab": {
      "provenance": []
    },
    "kernelspec": {
      "name": "python3",
      "display_name": "Python 3"
    },
    "language_info": {
      "name": "python"
    }
  },
  "cells": [
    {
      "cell_type": "code",
      "execution_count": null,
      "metadata": {
        "id": "AR32O_3cDaxS"
      },
      "outputs": [],
      "source": []
    },
    {
      "cell_type": "markdown",
      "source": [
        "Estructuras de seleccion\n",
        "1. Si - sino if - else\n",
        "2. operacion temario\n",
        "3. estructura swicht\n",
        "   - if/elf/else\n",
        "   - match- case"
      ],
      "metadata": {
        "id": "MHm7ztU5DsYL"
      }
    },
    {
      "cell_type": "code",
      "source": [
        "\n",
        "#Quieres aprender a programar? Si No\n",
        "#las dos varibles no eran iguales (Respuesta - respuesta)\n",
        "#las dos variables no eran iguales\n",
        "#if y else van en minuscula\n",
        "\n",
        "respuesta=input(\"Quieres aprender a programar?\").capitalize()\n",
        "if respuesta==\"si\":\n",
        "  print(\"Empieza haciendo ejercicios\")\n",
        "elif respuesta==\"no\":\n",
        "  print(\"Reconsidéralo\")"
      ],
      "metadata": {
        "id": "_QDPOyRoEI-B"
      },
      "execution_count": null,
      "outputs": []
    },
    {
      "cell_type": "code",
      "source": [
        "respuesta=input(\"Deseas aprender a programar? \").capitalize()\n",
        "a= (\"Empieza a hacer ejercicios\" if respuesta==\"Si\" else \"Reconsideralo\")"
      ],
      "metadata": {
        "id": "n1D9q__kVPNT"
      },
      "execution_count": null,
      "outputs": []
    },
    {
      "cell_type": "code",
      "source": [
        "a=\"si\""
      ],
      "metadata": {
        "id": "ht81EcCIEyEy"
      },
      "execution_count": null,
      "outputs": []
    },
    {
      "cell_type": "code",
      "source": [
        "a.capitalize()"
      ],
      "metadata": {
        "id": "fIZDfmiqE085"
      },
      "execution_count": null,
      "outputs": []
    },
    {
      "cell_type": "markdown",
      "source": [
        "\n",
        "\n",
        "#Ejemplo\n",
        "1. Dividir dos números siempre y cuando el denominador no sea 0\n",
        "2. Definir si un número es mayor que 5 y menor que que 1.5\n",
        "3. Definir si un numero es mayor que n y menor o igual que m\n",
        "4. Definir si una letra es m o no\n",
        "5. Verificar si un número es par o impar\n",
        "6. Decrementa en 1 una unidad, si x es mayor que 5"
      ],
      "metadata": {
        "id": "nGz8rOmTGBKI"
      }
    },
    {
      "cell_type": "code",
      "source": [
        "#ejercicio 3: definir si un numero es mayor que n y menor o igual que m\n",
        "n=int(input(\"ingrese un numero: \"))\n",
        "m=int(input(\"ingrese otro numero: \"))\n"
      ],
      "metadata": {
        "colab": {
          "base_uri": "https://localhost:8080/"
        },
        "id": "3wKZelQyGV5Z",
        "outputId": "bf31f7ce-3384-4b1e-c616-b21522f21429"
      },
      "execution_count": 10,
      "outputs": [
        {
          "name": "stdout",
          "output_type": "stream",
          "text": [
            "ingrese un numero: 8\n",
            "ingrese otro numero: 4\n"
          ]
        }
      ]
    },
    {
      "cell_type": "code",
      "source": [
        "x=int(input(\"ingrese otro numero: \"))\n",
        "if x>n and x<=m:\n",
        "  print(f\"El numero {x} es mayor que {n} y menor o igual que {m}\")\n",
        "else:\n",
        "    print(f\"El numero {x} no es mayor que {n} y menor o igual que {m}\")"
      ],
      "metadata": {
        "colab": {
          "base_uri": "https://localhost:8080/"
        },
        "id": "t-EtmhOuH3Be",
        "outputId": "2b272294-924e-4063-cb1f-ef19b5dcc03b"
      },
      "execution_count": 11,
      "outputs": [
        {
          "output_type": "stream",
          "name": "stdout",
          "text": [
            "ingrese otro numero: 5\n",
            "El numero 5 no es mayor que 8 y menor o igual que 4\n"
          ]
        }
      ]
    },
    {
      "cell_type": "code",
      "source": [
        "b= \"El numero {x} es mayor que {n} y menor o igual que {m}\" if x>n and x<=m else f\"El numero {x} no es mayor que {n} y menor o igual que {m}\""
      ],
      "metadata": {
        "id": "-X16_mX7V35K"
      },
      "execution_count": null,
      "outputs": []
    },
    {
      "cell_type": "code",
      "source": [
        "x=int(input(\"ingrese otro numero: \"))\n",
        "if x>n and x<=m:\n",
        "  print(f\"El numero {x} es mayor que {n} y menor o igual que {m}\")\n",
        "elif x>=n and x>m:\n",
        "  print(f\"El numero {x} es mayor que {n} pero no es menor o igual que {m}\")\n",
        "elif x<n and x<=m:\n",
        "  print(f\"El numero {x} es menor que {n} pero no es menor o igual que {m}\")\n",
        "else:\n",
        "  print(f\"El numero {x} no es mayor que {n} y menor o igual que {m}\")\n",
        "\n"
      ],
      "metadata": {
        "id": "wUQF90z_MVpb"
      },
      "execution_count": null,
      "outputs": []
    },
    {
      "cell_type": "code",
      "source": [
        "b= \"El numero {x} es mayor que {n} y menor o igual que {m}\" if x>n and x<=m else f\"El numero {x} no es mayor que {n} y menor o igual que {m}\""
      ],
      "metadata": {
        "id": "bg6UlKVeXNQK"
      },
      "execution_count": null,
      "outputs": []
    },
    {
      "cell_type": "code",
      "source": [
        "x=int(input(\"Ingrese otro número\"))\n",
        "if x>n and m<=m:\n",
        "  print(f\"El número {x} es mayor que {n} y menor o igual que {m}\")\n",
        "else:\n",
        "  if x>n: print(f\"El número {x} es mayor que {n} pero no es menor o igual que {m}\")\n",
        "  else: print(f\"El número {x} no es mayor que {n} pero es menor o igual que {m}\""
      ],
      "metadata": {
        "id": "lj6e7brWOBsZ"
      },
      "execution_count": null,
      "outputs": []
    },
    {
      "cell_type": "code",
      "source": [
        "b= \"El numero {x} es mayor que {n} y menor o igual que {m}\" if x>n and x<=m else f\"El numero {x} no es mayor que {n} y menor o igual que {m}\""
      ],
      "metadata": {
        "id": "50YHewX3WkXK"
      },
      "execution_count": null,
      "outputs": []
    },
    {
      "cell_type": "code",
      "source": [
        "#4 deifinir si una letra es m o no. Modo Novato\n",
        "letra=input(\"ingrese una letra: \")\n",
        "if letra==\"m\" or letra==\"M\":\n",
        "  print(\"ingresaste una m\")\n",
        "else: print(\"No ingresaste una m \")"
      ],
      "metadata": {
        "id": "VUZgvy78OZXg"
      },
      "execution_count": null,
      "outputs": []
    },
    {
      "cell_type": "code",
      "source": [
        "b=\"ingresaste una m\" if letra==\"m\" or letra==\"M\": else \"No ingresaste una m\""
      ],
      "metadata": {
        "id": "yMwe_coeV_LS"
      },
      "execution_count": null,
      "outputs": []
    },
    {
      "cell_type": "markdown",
      "source": [
        "Operador ternario\n",
        "1. Accion si se cumple la condicion\n",
        "2. la condicion\n",
        "3. else\n",
        "4. accion si no se cumple la condicion"
      ],
      "metadata": {
        "id": "SW9FOytqW0jw"
      }
    },
    {
      "cell_type": "code",
      "source": [
        "#4 deifinir si una letra es m o no. Modo Professional\n",
        "letra=input(\"ingrese una letra: \").lower()\n",
        "if letra==\"m\"\n",
        "  print(\"ingresaste una m\")\n",
        "else: print(\"No ingresaste una m  \")"
      ],
      "metadata": {
        "id": "Yu3ejx1cPLcQ"
      },
      "execution_count": null,
      "outputs": []
    },
    {
      "cell_type": "code",
      "source": [
        "b=\"ingresaste una m\" if letra==\"m\" else \"No ingresaste una m\""
      ],
      "metadata": {
        "id": "uin8o2A6XBSQ"
      },
      "execution_count": null,
      "outputs": []
    },
    {
      "cell_type": "code",
      "source": [
        "#Restar en una 1 variable si es menor que 5\n",
        "numero=int(input(\"ingrese un numero: \"))\n",
        "if numero<5: print(f\"El nuevo numero es {numero-1}\")\n",
        "else: print(\"Como el nuevo numero no es menor que 5, se mantiene. \")"
      ],
      "metadata": {
        "colab": {
          "base_uri": "https://localhost:8080/"
        },
        "id": "bM_z30Z7Pm1X",
        "outputId": "76f821c8-b90d-424e-dc4c-c5f2515d8d99"
      },
      "execution_count": 12,
      "outputs": [
        {
          "output_type": "stream",
          "name": "stdout",
          "text": [
            "ingrese un numero: 10\n",
            "Como el nuevo numero no es menor que 5, se mantiene. \n"
          ]
        }
      ]
    },
    {
      "cell_type": "code",
      "source": [
        "b=numero-1 if numero<5 else numero"
      ],
      "metadata": {
        "id": "WE_SBWCmWN7R"
      },
      "execution_count": null,
      "outputs": []
    },
    {
      "cell_type": "code",
      "source": [
        "#1\n",
        "numerador = float(input(\"Ingrese el numerador: \"))\n",
        "denominador = float(input(\"Ingrese el denominador: \"))\n",
        "if denominador != 0:\n",
        "    resultado = numerador / denominador\n",
        "    print(f\"El resultado de la división es: {resultado}\")\n",
        "else:\n",
        "    print(\"Error: No se puede dividir por 0.\")\n"
      ],
      "metadata": {
        "colab": {
          "base_uri": "https://localhost:8080/"
        },
        "id": "zeCikQ0pUWar",
        "outputId": "d9e4e121-cef6-439c-e9b8-26ea0b6ac38f"
      },
      "execution_count": 13,
      "outputs": [
        {
          "output_type": "stream",
          "name": "stdout",
          "text": [
            "Ingrese el numerador: 4\n",
            "Ingrese el denominador: 8\n",
            "El resultado de la división es: 0.5\n"
          ]
        }
      ]
    },
    {
      "cell_type": "code",
      "source": [
        "b=f\"El resultado de la división es: {resultado}\" if denominador != 0 else \"Error: No se puede dividir por 0.\""
      ],
      "metadata": {
        "id": "765uAhl0XVio"
      },
      "execution_count": null,
      "outputs": []
    },
    {
      "cell_type": "code",
      "source": [
        "#2\n",
        "numero = float(input(\"Ingrese un número: \"))\n",
        "if 5 < numero < 15:\n",
        "    print(\"El número está en el rango de 5 a 15.\")\n",
        "else:\n",
        "    print(\"El número no está en el rango de 5 a 15.\")\n"
      ],
      "metadata": {
        "id": "bA438Qn9UfxE"
      },
      "execution_count": null,
      "outputs": []
    },
    {
      "cell_type": "code",
      "source": [
        "b=\"El número está en el rango de 5 a 15.\" if 5 < numero < 15 else \"El número no está en el rango de 5 a 15.\""
      ],
      "metadata": {
        "id": "riYIqhGxXXTg"
      },
      "execution_count": null,
      "outputs": []
    },
    {
      "cell_type": "code",
      "source": [
        "#5\n",
        "numero = int(input(\"Ingrese un número: \"))\n",
        "if numero % 2 == 0:\n",
        "    print(\"El número es par.\")\n",
        "else:\n",
        "    print(\"El número es impar.\")\n"
      ],
      "metadata": {
        "id": "1ndcqcRMU3ky"
      },
      "execution_count": null,
      "outputs": []
    },
    {
      "cell_type": "code",
      "source": [
        "b=\"El número es par.\" if numero % 2 == 0 else \"El número es impar.\""
      ],
      "metadata": {
        "id": "iSaoEXdJUvnz"
      },
      "execution_count": null,
      "outputs": []
    }
  ]
}