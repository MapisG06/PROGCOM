{
  "nbformat": 4,
  "nbformat_minor": 0,
  "metadata": {
    "colab": {
      "provenance": []
    },
    "kernelspec": {
      "name": "python3",
      "display_name": "Python 3"
    },
    "language_info": {
      "name": "python"
    }
  },
  "cells": [
    {
      "cell_type": "markdown",
      "source": [
        "#FUNCIONES\n",
        "Conjunto de instrucciones que permiten alcanzar pequeños objetivos\n",
        "1. Reutilizar el código\n",
        "2. Simplificar el objetivo\n",
        "3. Facilitar la realización de pruebas\n",
        "\n",
        "Hay dos tipos: Anónimas y funciones\n",
        "\n",
        "##Anónimas:\n",
        "No tienen nombre y se llaman de acuerdo a la variable asignada. Se emplea el identificador lambda. Se declara lambda (variable): operación\n",
        "\n",
        "##Funciones:\n",
        "Necesitan de la palabra def(nombre_de_la_función):\n"
      ],
      "metadata": {
        "id": "6NXSAki7WNB7"
      }
    },
    {
      "cell_type": "code",
      "source": [
        "\"\"\"\n",
        "Programa que permita calcular la suma, resta, multiplicación y división entre dos números\n",
        "\"\"\"\n",
        "# 1. Pedir los dos números\n",
        "x = int(input(\"Ingrese un número: \"))\n",
        "y = int(input(\"Ingrese otro número: \"))\n",
        "\n",
        "c = x + y\n",
        "print(f\"{x} + {y} = {c}\")\n",
        "\n",
        "c = x - y\n",
        "print(f\"{x} - {y} = {c}\")\n",
        "\n",
        "c = x * y\n",
        "print(f\"{x} * {y} = {c}\")\n",
        "\n",
        "c = x / y\n",
        "print(f\"{x} / {y} = {c}\")\n"
      ],
      "metadata": {
        "colab": {
          "base_uri": "https://localhost:8080/"
        },
        "id": "W23SLVSkWNst",
        "outputId": "05413327-8033-4394-f5eb-e54207dd1039"
      },
      "execution_count": null,
      "outputs": [
        {
          "output_type": "stream",
          "name": "stdout",
          "text": [
            "Ingrese un número: 5\n",
            "Ingrese otro número: 7\n",
            "5 + 7 = 12\n",
            "5 - 7 = -2\n",
            "5 * 7 = 35\n",
            "5 / 7 = 0.7142857142857143\n"
          ]
        }
      ]
    },
    {
      "cell_type": "code",
      "source": [
        "def pedir_numeros():\n",
        "  x=int(input(\"Ingrese un número: \"))\n",
        "  y=int(input(\"Ingrese otro número: \"))\n",
        "  return x,y"
      ],
      "metadata": {
        "id": "jYJ8cdgaWXWb"
      },
      "execution_count": null,
      "outputs": []
    },
    {
      "cell_type": "code",
      "source": [
        "a,b=pedir_numeros()"
      ],
      "metadata": {
        "colab": {
          "base_uri": "https://localhost:8080/"
        },
        "id": "BCQUYItYX5vo",
        "outputId": "6f121a5d-d2bf-4054-cd30-e5fa89628b61"
      },
      "execution_count": null,
      "outputs": [
        {
          "name": "stdout",
          "output_type": "stream",
          "text": [
            "Ingrese un número: 4\n",
            "Ingrese otro número: 7\n"
          ]
        }
      ]
    },
    {
      "cell_type": "code",
      "source": [
        "def suma_v1(a, b):\n",
        "    return a + b"
      ],
      "metadata": {
        "id": "_EZddtC5YRJO"
      },
      "execution_count": null,
      "outputs": []
    },
    {
      "cell_type": "code",
      "source": [
        "suma_v1(x, y)\n"
      ],
      "metadata": {
        "id": "8VGZHfZIYRyd"
      },
      "execution_count": null,
      "outputs": []
    },
    {
      "cell_type": "code",
      "source": [
        "suma = lambda a,b: a + b"
      ],
      "metadata": {
        "id": "L0nYAhg6YUYO"
      },
      "execution_count": null,
      "outputs": []
    },
    {
      "cell_type": "code",
      "source": [
        "suma(a, b)\n"
      ],
      "metadata": {
        "colab": {
          "base_uri": "https://localhost:8080/"
        },
        "id": "K3PoTo9gYW_8",
        "outputId": "3643ef4b-09aa-4e3d-98b1-fbaa0d739f5e"
      },
      "execution_count": null,
      "outputs": [
        {
          "output_type": "execute_result",
          "data": {
            "text/plain": [
              "11"
            ]
          },
          "metadata": {},
          "execution_count": 6
        }
      ]
    },
    {
      "cell_type": "code",
      "source": [
        "suma(x, y)\n"
      ],
      "metadata": {
        "colab": {
          "base_uri": "https://localhost:8080/"
        },
        "id": "L8gLv4UWYYnJ",
        "outputId": "1ab3a305-6ecb-4849-dbfa-ff8c7562a273"
      },
      "execution_count": null,
      "outputs": [
        {
          "output_type": "execute_result",
          "data": {
            "text/plain": [
              "12"
            ]
          },
          "metadata": {},
          "execution_count": 7
        }
      ]
    },
    {
      "cell_type": "code",
      "source": [
        "def suma(x, y):\n",
        "    return x + y\n",
        "\n",
        "def resta(x, y):\n",
        "    return x - y\n",
        "\n",
        "def multiplicacion(x, y):\n",
        "    return x * y\n",
        "\n",
        "def division(x, y):\n",
        "    if y == 0:\n",
        "        return \"Error: No se puede dividir por cero\"\n",
        "    else:\n",
        "        return x / y\n",
        "\n",
        "def pedir_numeros():\n",
        "    num1 = float(input(\"Ingresa el primer número: \"))\n",
        "    num2 = float(input(\"Ingresa el segundo número: \"))\n",
        "    return num1, num2\n",
        "\n",
        "def menu():\n",
        "    print(\"\\n--- Menú de operaciones ---\")\n",
        "    print(\"1. Suma\")\n",
        "    print(\"2. Resta\")\n",
        "    print(\"3. Multiplicación\")\n",
        "    print(\"4. División\")\n",
        "    print(\"5. Salir\")\n",
        "\n",
        "def calculadora():\n",
        "    menu()\n",
        "    opcion = input(\"Elige una operación (1/2/3/4): \")\n",
        "\n",
        "    if opcion in ['1', '2', '3', '4']:\n",
        "        num1, num2 = pedir_numeros()\n",
        "\n",
        "        if opcion == '1':\n",
        "            print(f\"La suma de {num1} + {num2} = {suma(num1, num2)}\")\n",
        "        elif opcion == '2':\n",
        "            print(f\"La resta de {num1} - {num2} = {resta(num1, num2)}\")\n",
        "        elif opcion == '3':\n",
        "            print(f\"La multiplicación de {num1} * {num2} = {multiplicacion(num1, num2)}\")\n",
        "        elif opcion == '4':\n",
        "            resultado_division = division(num1, num2)\n",
        "            if resultado_division == \"Error: No se puede dividir por cero\":\n",
        "                print(resultado_division)\n",
        "            else:\n",
        "                print(f\"La división de {num1} / {num2} = {resultado_division}\")\n",
        "    else:\n",
        "        print(\"Opción inválida. El programa finalizará.\")\n",
        "\n",
        "calculadora()\n",
        "print(\"Programa finalizado.\")\n"
      ],
      "metadata": {
        "colab": {
          "base_uri": "https://localhost:8080/"
        },
        "id": "EDHMaiAvCUxU",
        "outputId": "b0ae2775-8f8b-4956-ecfb-296285993628"
      },
      "execution_count": 1,
      "outputs": [
        {
          "output_type": "stream",
          "name": "stdout",
          "text": [
            "\n",
            "--- Menú de operaciones ---\n",
            "1. Suma\n",
            "2. Resta\n",
            "3. Multiplicación\n",
            "4. División\n",
            "5. Salir\n",
            "Elige una operación (1/2/3/4): 4\n",
            "Ingresa el primer número: 10\n",
            "Ingresa el segundo número: 3\n",
            "La división de 10.0 / 3.0 = 3.3333333333333335\n",
            "Programa finalizado.\n"
          ]
        }
      ]
    },
    {
      "cell_type": "markdown",
      "source": [
        "EJEMPLO CON FUNCIONES ANONIMAS"
      ],
      "metadata": {
        "id": "gpvRRB2KCZdP"
      }
    },
    {
      "cell_type": "code",
      "source": [
        "\n",
        "suma = lambda x, y: x + y\n",
        "resta = lambda x, y: x - y\n",
        "multiplicacion = lambda x, y: x * y\n",
        "division = lambda x, y: x / y if y != 0 else \"Error: División por cero\"\n",
        "\n",
        "pedir_numeros = lambda: (float(input(\"Ingresa el primer número: \")), float(input(\"Ingresa el segundo número: \")))\n",
        "\n",
        "menu = lambda: print(\"\\n--- Menú de operaciones ---\\n1. Suma\\n2. Resta\\n3. Multiplicación\\n4. División\\n5. Salir\")\n",
        "\n",
        "calculadora = lambda: (\n",
        "    menu(),\n",
        "    (lambda opcion:\n",
        "        (lambda num1, num2:\n",
        "            (print(f\"La suma de {num1} + {num2} = {suma(num1, num2)}\") if opcion == '1' else\n",
        "             print(f\"La resta de {num1} - {num2} = {resta(num1, num2)}\") if opcion == '2' else\n",
        "             print(f\"La multiplicación de {num1} * {num2} = {multiplicacion(num1, num2)}\") if opcion == '3' else\n",
        "             print(f\"La división de {num1} / {num2} = {division(num1, num2)}\"))\n",
        "        )(pedir_numeros()) if opcion in ['1', '2', '3', '4'] else\n",
        "        (print(\"Saliendo del programa. ¡Adiós!\") if opcion == '5' else print(\"Opción inválida.\"))\n",
        "    )(input(\"Elige una operación (1/2/3/4/5): \"))\n",
        ")\n",
        "\n",
        "while True:\n",
        "    calculadora()\n",
        "    if input(\"¿Deseas realizar otra operación? (s/n): \").lower() != 's':\n",
        "        break\n"
      ],
      "metadata": {
        "colab": {
          "base_uri": "https://localhost:8080/"
        },
        "id": "8HTZfBYgCco7",
        "outputId": "e5d33e1c-6a4d-48a5-e068-44dc676787a8"
      },
      "execution_count": 4,
      "outputs": [
        {
          "name": "stdout",
          "output_type": "stream",
          "text": [
            "\n",
            "--- Menú de operaciones ---\n",
            "1. Suma\n",
            "2. Resta\n",
            "3. Multiplicación\n",
            "4. División\n",
            "5. Salir\n",
            "Elige una operación (1/2/3/4/5): 5\n",
            "Saliendo del programa. ¡Adiós!\n",
            "¿Deseas realizar otra operación? (s/n): n\n"
          ]
        }
      ]
    }
  ]
}