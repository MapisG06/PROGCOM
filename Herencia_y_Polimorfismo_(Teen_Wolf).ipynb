{
  "nbformat": 4,
  "nbformat_minor": 0,
  "metadata": {
    "colab": {
      "provenance": []
    },
    "kernelspec": {
      "name": "python3",
      "display_name": "Python 3"
    },
    "language_info": {
      "name": "python"
    }
  },
  "cells": [
    {
      "cell_type": "code",
      "source": [
        "# Clase base \"Personaje\"\n",
        "class Personaje:\n",
        "    def __init__(self, nombre, edad, origen_poderes=\"Humano\"):\n",
        "        self.nombre = nombre\n",
        "        self.edad = edad\n",
        "        self.origen_poderes = origen_poderes\n",
        "\n",
        "    def presentarse(self):\n",
        "        return f\"Hola, soy {self.nombre}, tengo {self.edad} años y mis poderes provienen de: {self.origen_poderes}.\"\n",
        "\n",
        "# Clase derivada \"Humano\"\n",
        "class Humano(Personaje):\n",
        "    def habilidad_especial(self):\n",
        "        return f\"{self.nombre} no tiene habilidades sobrenaturales, pero es muy valiente.\"\n",
        "\n",
        "    def atacar(self):\n",
        "        return f\"{self.nombre} ha sido entrenado por su padre y ataca con precisión de cazador.\"\n",
        "\n",
        "# Clase derivada \"HombreLobo\"\n",
        "class HombreLobo(Personaje):\n",
        "    def __init__(self, nombre, edad, alfa=False, origen_poderes=\"Mordida de Hombre Lobo\"):\n",
        "        super().__init__(nombre, edad, origen_poderes)\n",
        "        self.alfa = alfa\n",
        "\n",
        "    def habilidad_especial(self):\n",
        "        if self.alfa:\n",
        "            return f\"{self.nombre} es un Alfa y tiene una fuerza superior como líder.\"\n",
        "        else:\n",
        "            return f\"{self.nombre} es un Hombre Lobo Beta con gran fuerza y resistencia.\"\n",
        "\n",
        "    def atacar(self):\n",
        "        maestro = \"Derek\" if self.alfa else \"Scott\"\n",
        "        tipo_fuerza = \"superior\" if self.alfa else \"moderada\"\n",
        "        return f\"{self.nombre} fue entrenado por {maestro} y ataca con fuerza {tipo_fuerza} de hombre lobo.\"\n",
        "\n",
        "# Clase derivada \"Coyote\"\n",
        "class Coyote(Personaje):\n",
        "    def habilidad_especial(self):\n",
        "        return f\"{self.nombre} es rápida y tiene agudos sentidos de coyote.\"\n",
        "\n",
        "    def atacar(self):\n",
        "        return f\"{self.nombre} ataca con la rapidez de un coyote.\"\n",
        "\n",
        "# Clase híbrida \"HombreLoboCoyote\" que hereda de \"HombreLobo\" y \"Coyote\"\n",
        "class HombreLoboCoyote(HombreLobo, Coyote):\n",
        "    def __init__(self, nombre, edad):\n",
        "        super().__init__(nombre, edad, alfa=False, origen_poderes=\"Genética (híbrido)\")\n",
        "\n",
        "    def habilidad_especial(self):\n",
        "        return f\"{self.nombre} es un híbrido con habilidades de hombre lobo y coyote.\"\n",
        "\n",
        "    def atacar(self):\n",
        "        return f\"{self.nombre} fue entrenada por Scott y ataca con una mezcla de fuerza y velocidad híbridas.\"\n",
        "\n",
        "# Clase derivada \"Banshee\"\n",
        "class Banshee(Personaje):\n",
        "    def __init__(self, nombre, edad, origen_poderes=\"Heredado de su abuela\"):\n",
        "        super().__init__(nombre, edad, origen_poderes)\n",
        "\n",
        "    def habilidad_especial(self):\n",
        "        return f\"{self.nombre} es una Banshee y tiene el poder de predecir la muerte.\"\n",
        "\n",
        "    def atacar(self):\n",
        "        return f\"{self.nombre} no ataca físicamente, pero puede usar su grito como advertencia.\"\n",
        "\n",
        "# Ejemplo de uso\n",
        "scott = HombreLobo(\"Scott\", 17, alfa=True)\n",
        "allison = Humano(\"Allison\", 17)\n",
        "malia = HombreLoboCoyote(\"Malia\", 18)\n",
        "liam = HombreLobo(\"Liam\", 16, alfa=False)  # Liam como lobo beta\n",
        "lydia = Banshee(\"Lydia\", 17)  # Lydia como Banshee heredada de su abuela\n",
        "\n",
        "personajes = [scott, allison, malia, liam, lydia]\n",
        "\n",
        "# Demostración de polimorfismo\n",
        "for personaje in personajes:\n",
        "    print(personaje.presentarse())\n",
        "    print(personaje.habilidad_especial())\n",
        "    print(personaje.atacar())\n",
        "    print(\"---\")\n"
      ],
      "metadata": {
        "id": "0nWIbKlTtUsl",
        "outputId": "a67a36f7-9ebf-46cb-eba7-bec324457117",
        "colab": {
          "base_uri": "https://localhost:8080/"
        }
      },
      "execution_count": null,
      "outputs": [
        {
          "output_type": "stream",
          "name": "stdout",
          "text": [
            "Hola, soy Scott, tengo 17 años y mis poderes provienen de: Mordida de Hombre Lobo.\n",
            "Scott es un Alfa y tiene una fuerza superior como líder.\n",
            "Scott fue entrenado por Derek y ataca con fuerza superior de hombre lobo.\n",
            "---\n",
            "Hola, soy Allison, tengo 17 años y mis poderes provienen de: Humano.\n",
            "Allison no tiene habilidades sobrenaturales, pero es muy valiente.\n",
            "Allison ha sido entrenado por su padre y ataca con precisión de cazador.\n",
            "---\n",
            "Hola, soy Malia, tengo 18 años y mis poderes provienen de: Genética (híbrido).\n",
            "Malia es un híbrido con habilidades de hombre lobo y coyote.\n",
            "Malia fue entrenada por Scott y ataca con una mezcla de fuerza y velocidad híbridas.\n",
            "---\n",
            "Hola, soy Liam, tengo 16 años y mis poderes provienen de: Mordida de Hombre Lobo.\n",
            "Liam es un Hombre Lobo Beta con gran fuerza y resistencia.\n",
            "Liam fue entrenado por Scott y ataca con fuerza moderada de hombre lobo.\n",
            "---\n",
            "Hola, soy Lydia, tengo 17 años y mis poderes provienen de: Heredado de su abuela.\n",
            "Lydia es una Banshee y tiene el poder de predecir la muerte.\n",
            "Lydia no ataca físicamente, pero puede usar su grito como advertencia.\n",
            "---\n"
          ]
        }
      ]
    }
  ]
}