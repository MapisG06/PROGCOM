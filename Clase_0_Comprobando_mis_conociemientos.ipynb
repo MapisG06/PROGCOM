{
  "nbformat": 4,
  "nbformat_minor": 0,
  "metadata": {
    "colab": {
      "provenance": []
    },
    "kernelspec": {
      "name": "python3",
      "display_name": "Python 3"
    },
    "language_info": {
      "name": "python"
    }
  },
  "cells": [
    {
      "cell_type": "code",
      "execution_count": null,
      "metadata": {
        "id": "Mh8Vn1gzEQYy"
      },
      "outputs": [],
      "source": []
    },
    {
      "cell_type": "markdown",
      "source": [
        "#Prueba de evalauacion de conocimiento\n"
      ],
      "metadata": {
        "id": "6Cr6vJUYEwXc"
      }
    },
    {
      "cell_type": "markdown",
      "source": [
        "## Tipos de datos\n",
        "1. Numero\n",
        "1.1 Entero: Int\n",
        "1.2 Decimal: float\n",
        "\n",
        "2. Alfanumerico o cadena de caracteres.\n",
        "(String - str)\n",
        "3. Logico : Boolean - bool\n",
        "4. listas: list []\n",
        "5. diccionarios: dict {}\n",
        "\n",
        "para saber que tipo de datos manipulamos se usa la funcion type ()"
      ],
      "metadata": {
        "id": "OHhGqy5wFOnM"
      }
    },
    {
      "cell_type": "code",
      "source": [
        "5 + 3 * 4"
      ],
      "metadata": {
        "colab": {
          "base_uri": "https://localhost:8080/"
        },
        "id": "sRjmTCMaFx9k",
        "outputId": "88d52a3c-8863-42ff-a569-94e1ed61ed65"
      },
      "execution_count": null,
      "outputs": [
        {
          "output_type": "execute_result",
          "data": {
            "text/plain": [
              "17"
            ]
          },
          "metadata": {},
          "execution_count": 1
        }
      ]
    },
    {
      "cell_type": "code",
      "source": [
        "type(5 +3*4)"
      ],
      "metadata": {
        "colab": {
          "base_uri": "https://localhost:8080/"
        },
        "id": "6cytJ265GtJT",
        "outputId": "e54dccc3-f077-4c44-85ec-1c44cd381cf4"
      },
      "execution_count": null,
      "outputs": [
        {
          "output_type": "execute_result",
          "data": {
            "text/plain": [
              "int"
            ]
          },
          "metadata": {},
          "execution_count": 2
        }
      ]
    },
    {
      "cell_type": "code",
      "source": [
        "print(f\"5+3*4={5+3*4} y da como resultado un valor de tipo {type(5+3*4)}\")"
      ],
      "metadata": {
        "colab": {
          "base_uri": "https://localhost:8080/"
        },
        "id": "Lyw8MkmBGzgq",
        "outputId": "673ba115-943e-4867-90d4-42f77b3cb4d3"
      },
      "execution_count": null,
      "outputs": [
        {
          "output_type": "stream",
          "name": "stdout",
          "text": [
            "5+3*4=17 y da como resultado un valor de tipo <class 'int'>\n"
          ]
        }
      ]
    },
    {
      "cell_type": "code",
      "source": [
        "#Cuando se usa suma en strings, sucede la concatenacion\n",
        "\"5\"+\"3\"*2"
      ],
      "metadata": {
        "colab": {
          "base_uri": "https://localhost:8080/",
          "height": 35
        },
        "id": "rXSAPE08Hi7q",
        "outputId": "b3de9492-9737-435a-9bdd-dbf61b0dd967"
      },
      "execution_count": null,
      "outputs": [
        {
          "output_type": "execute_result",
          "data": {
            "text/plain": [
              "'533'"
            ],
            "application/vnd.google.colaboratory.intrinsic+json": {
              "type": "string"
            }
          },
          "metadata": {},
          "execution_count": 4
        }
      ]
    },
    {
      "cell_type": "code",
      "source": [
        "# = es asignacion, y  == es comparacion\n",
        "2 ** 11 == 1000"
      ],
      "metadata": {
        "colab": {
          "base_uri": "https://localhost:8080/"
        },
        "id": "X3QXHoSxIPDp",
        "outputId": "9119dbf5-c34b-43a5-9c19-066ea76e1867"
      },
      "execution_count": null,
      "outputs": [
        {
          "output_type": "execute_result",
          "data": {
            "text/plain": [
              "False"
            ]
          },
          "metadata": {},
          "execution_count": 5
        }
      ]
    },
    {
      "cell_type": "markdown",
      "source": [
        "#Operaciones logicas\n",
        "1. Disyuncion (o) : Una proposicion es verdadera si al menos una de ella, lo es. En python se puede enunciar con la palabra **or** o con **//**\n",
        "Ejemplo: V OR V da V. V or F da V, F or F da F\n",
        "\n",
        "2. Conjuncion (y): Una preposicion es verdad, SI Y SOLO SI, ambas preposiciones son verdaderaas. En Oython se utilizan la palabra **and** o **&&** para su uso\n",
        "Ejemplo F OR V da F, F OR F da F, V OR V da V\n",
        "\n",
        "3. Negacion: (no): Niega el calor de verdad en una proposicion. Si el valor verdadero de verdad es true, se vuelve false. En python se utliza la palabra **not** o ~ para denotarla"
      ],
      "metadata": {
        "id": "5WwUNnNtIyDw"
      }
    },
    {
      "cell_type": "code",
      "source": [
        "a=2 ** 11 == 1000 or 2**9 == 100"
      ],
      "metadata": {
        "id": "8Fz10qCoL64V"
      },
      "execution_count": null,
      "outputs": []
    },
    {
      "cell_type": "code",
      "source": [
        "print(f\"El valor de la expresion a=2 ** 11 == 1000 or 2**9 == 100 es {a}\")"
      ],
      "metadata": {
        "colab": {
          "base_uri": "https://localhost:8080/"
        },
        "id": "OMhnM42HKs52",
        "outputId": "ab5219ff-6bec-4b9b-97d5-a04428917705"
      },
      "execution_count": null,
      "outputs": [
        {
          "output_type": "stream",
          "name": "stdout",
          "text": [
            "El valor de la expresion a=2 ** 11 == 1000 or 2**9 == 100 es False\n"
          ]
        }
      ]
    },
    {
      "cell_type": "code",
      "source": [
        "#Colocar un tipo de dato por fuera del dato, se usa para transformar el dato dentro del parentesis en el daro por fuera del parentesis\n",
        "#Por lo tanto esto da ERROR\n",
        "int(\"cincuenta\")"
      ],
      "metadata": {
        "id": "2xu6njJeMZ11"
      },
      "execution_count": null,
      "outputs": []
    },
    {
      "cell_type": "code",
      "source": [
        "int(\"50\")"
      ],
      "metadata": {
        "colab": {
          "base_uri": "https://localhost:8080/"
        },
        "id": "RPnPNK8DM8SM",
        "outputId": "0ec5733e-6f10-4e98-804b-1e555c977b00"
      },
      "execution_count": null,
      "outputs": [
        {
          "output_type": "execute_result",
          "data": {
            "text/plain": [
              "50"
            ]
          },
          "metadata": {},
          "execution_count": 9
        }
      ]
    },
    {
      "cell_type": "code",
      "source": [
        "str(\"50\")"
      ],
      "metadata": {
        "colab": {
          "base_uri": "https://localhost:8080/",
          "height": 35
        },
        "id": "XcLpujzgNLuE",
        "outputId": "10d3e22a-c77d-4427-fb98-74e2078d32af"
      },
      "execution_count": null,
      "outputs": [
        {
          "output_type": "execute_result",
          "data": {
            "text/plain": [
              "'50'"
            ],
            "application/vnd.google.colaboratory.intrinsic+json": {
              "type": "string"
            }
          },
          "metadata": {},
          "execution_count": 10
        }
      ]
    },
    {
      "cell_type": "code",
      "source": [
        "#Simepre que halla una division, el resultado dara flotante o decimal\n",
        "16/16 + 384/24"
      ],
      "metadata": {
        "colab": {
          "base_uri": "https://localhost:8080/"
        },
        "id": "OBWjlScON3gb",
        "outputId": "d34ec2e7-15b3-4bf7-a61f-fe6bf8838f07"
      },
      "execution_count": null,
      "outputs": [
        {
          "output_type": "execute_result",
          "data": {
            "text/plain": [
              "17.0"
            ]
          },
          "metadata": {},
          "execution_count": 11
        }
      ]
    },
    {
      "cell_type": "code",
      "source": [
        "a= 16/16 + 384/24"
      ],
      "metadata": {
        "id": "mmEqe2dQORDD"
      },
      "execution_count": null,
      "outputs": []
    },
    {
      "cell_type": "code",
      "source": [
        "print(f\"la operacion 16/16 + 384/24 es {a} y es de tipo {type(16/16 + 384/24)} \")"
      ],
      "metadata": {
        "colab": {
          "base_uri": "https://localhost:8080/"
        },
        "id": "acAMa0BJOStc",
        "outputId": "cb466c7e-9ed5-4999-a98b-0eb98043686e"
      },
      "execution_count": null,
      "outputs": [
        {
          "output_type": "stream",
          "name": "stdout",
          "text": [
            "la operacion 16/16 + 384/24 es 17.0 y es de tipo <class 'float'> \n"
          ]
        }
      ]
    },
    {
      "cell_type": "code",
      "source": [
        "#Da ERROR por que python no lee el porcentaje asi lo lee en MOD\n",
        "600 + 18%"
      ],
      "metadata": {
        "id": "K3hG9yf0PJnb"
      },
      "execution_count": null,
      "outputs": []
    },
    {
      "cell_type": "code",
      "source": [
        "0 < (4096 % 10) > 6"
      ],
      "metadata": {
        "colab": {
          "base_uri": "https://localhost:8080/"
        },
        "id": "YsspBiHVQEzZ",
        "outputId": "a24b4385-1637-491c-8b35-a1d466439773"
      },
      "execution_count": null,
      "outputs": [
        {
          "output_type": "execute_result",
          "data": {
            "text/plain": [
              "False"
            ]
          },
          "metadata": {},
          "execution_count": 16
        }
      ]
    },
    {
      "cell_type": "code",
      "source": [
        "\"Max\" + \"Min\""
      ],
      "metadata": {
        "colab": {
          "base_uri": "https://localhost:8080/",
          "height": 35
        },
        "id": "TZx84NH0QMqY",
        "outputId": "a8e6a0de-b479-49e5-b026-6fe3e7b2f86f"
      },
      "execution_count": null,
      "outputs": [
        {
          "output_type": "execute_result",
          "data": {
            "text/plain": [
              "'MaxMin'"
            ],
            "application/vnd.google.colaboratory.intrinsic+json": {
              "type": "string"
            }
          },
          "metadata": {},
          "execution_count": 17
        }
      ]
    },
    {
      "cell_type": "code",
      "source": [
        "a= \"Max\" + \"Min\""
      ],
      "metadata": {
        "id": "LgxAHcbIQZNI"
      },
      "execution_count": null,
      "outputs": []
    },
    {
      "cell_type": "code",
      "source": [
        "print(f\"la operacion 'Max' + 'Min' es {a} y es de tipo {type('Max' + 'Min')}\")"
      ],
      "metadata": {
        "colab": {
          "base_uri": "https://localhost:8080/"
        },
        "id": "oY5011TIQczB",
        "outputId": "f7565f20-8ac5-4e13-9d53-845d33b75024"
      },
      "execution_count": null,
      "outputs": [
        {
          "output_type": "stream",
          "name": "stdout",
          "text": [
            "la operacion 'Max' + 'Min' es MaxMin y es de tipo <class 'str'>\n"
          ]
        }
      ]
    },
    {
      "cell_type": "code",
      "source": [
        "#ABC () Es una funcion no definida\n",
        "ABC() * DEF()"
      ],
      "metadata": {
        "id": "MlJwVXqYRzCI"
      },
      "execution_count": null,
      "outputs": []
    },
    {
      "cell_type": "markdown",
      "source": [
        "Abs(len('seis') - len ('tres'))\n",
        "\n",
        "1. abs =valor absoluto\n",
        "2. len = cuenta la cantidad de letras de un string\n",
        "\n",
        "- len('seis')=4\n",
        "- len('tres')=4"
      ],
      "metadata": {
        "id": "0R-GWaOzS6v-"
      }
    },
    {
      "cell_type": "code",
      "source": [
        "abs(len('seis') - len ('tres'))"
      ],
      "metadata": {
        "id": "tAxnl5RkSMlP"
      },
      "execution_count": null,
      "outputs": []
    },
    {
      "cell_type": "code",
      "source": [
        "#Todos los numeros a excepcion de 0  da true al convertirlos a booleanos\n",
        "bool(1210)"
      ],
      "metadata": {
        "colab": {
          "base_uri": "https://localhost:8080/"
        },
        "id": "RItyIYleULin",
        "outputId": "ed6a9a85-6923-4372-934c-4aaa8869c442"
      },
      "execution_count": null,
      "outputs": [
        {
          "output_type": "execute_result",
          "data": {
            "text/plain": [
              "True"
            ]
          },
          "metadata": {},
          "execution_count": 22
        }
      ]
    }
  ]
}