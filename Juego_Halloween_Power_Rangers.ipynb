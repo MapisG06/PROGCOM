{
  "nbformat": 4,
  "nbformat_minor": 0,
  "metadata": {
    "colab": {
      "provenance": []
    },
    "kernelspec": {
      "name": "python3",
      "display_name": "Python 3"
    },
    "language_info": {
      "name": "python"
    }
  },
  "cells": [
    {
      "cell_type": "code",
      "execution_count": null,
      "metadata": {
        "id": "wiFzAYh8cNun"
      },
      "outputs": [],
      "source": [
        "import random\n",
        "\n",
        "# Clase para representar cada personaje\n",
        "class Personaje:\n",
        "    def __init__(self, nombre, es_malo):\n",
        "        self.nombre = nombre\n",
        "        self.es_malo = es_malo\n",
        "\n",
        "    def obtener_info(self):\n",
        "        return {\"nombre\": self.nombre, \"es_malo\": self.es_malo}\n",
        "\n",
        "\n",
        "# Clase para el juego\n",
        "class Juego:\n",
        "    def __init__(self):\n",
        "        # Crear 10 personajes inspirados en mitología latinoamericana\n",
        "        self.personajes = [\n",
        "            Personaje(\"La Llorona\", False),\n",
        "            Personaje(\"El Chupacabras\", False),\n",
        "            Personaje(\"El Nahual\", False),\n",
        "            Personaje(\"El Hombre Caimán\", False),\n",
        "            Personaje(\"El Sombrerón\", False),\n",
        "            Personaje(\"La Cegua\", False),\n",
        "            Personaje(\"El Duende\", False),\n",
        "            Personaje(\"La Patasola\", False),\n",
        "            Personaje(\"El Cadejo\", False),\n",
        "            Personaje(\"El Familiar\", True)  # Este es el personaje que intentará matarte\n",
        "        ]\n",
        "        self.personajes_seleccionados = []\n",
        "\n",
        "    def iniciar_juego(self):\n",
        "        # Seleccionar 6 personajes aleatoriamente\n",
        "        self.personajes_seleccionados = random.sample(self.personajes, 6)\n",
        "        print(\"¡Bienvenido al juego de Halloween!\")\n",
        "        print(\"Identifica al monstruo que no tiene permiso de ingresar.\")\n",
        "\n",
        "        # Mostrar los personajes seleccionados\n",
        "        for i, personaje in enumerate(self.personajes_seleccionados):\n",
        "            print(f\"{i + 1}. {personaje.nombre}\")\n",
        "\n",
        "        # Preguntar al jugador cuál es el monstruo que cree que es peligroso\n",
        "        eleccion = int(input(\"Elige el número del monstruo sospechoso: \")) - 1\n",
        "        self.verificar_monstruo(eleccion)\n",
        "\n",
        "    def verificar_monstruo(self, eleccion):\n",
        "        personaje_elegido = self.personajes_seleccionados[eleccion]\n",
        "        if personaje_elegido.es_malo:\n",
        "            print(\"¡Correcto! Has identificado al monstruo malvado. ¡Has ganado!\")\n",
        "        else:\n",
        "            print(\"¡Oh no! Has fallado. El monstruo malvado te ha atacado. Fin del juego.\")\n",
        "\n",
        "# Ejecución del juego\n",
        "juego = Juego()\n",
        "juego.iniciar_juego()\n"
      ]
    }
  ]
}