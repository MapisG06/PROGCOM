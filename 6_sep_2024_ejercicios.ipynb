{
  "nbformat": 4,
  "nbformat_minor": 0,
  "metadata": {
    "colab": {
      "provenance": []
    },
    "kernelspec": {
      "name": "python3",
      "display_name": "Python 3"
    },
    "language_info": {
      "name": "python"
    }
  },
  "cells": [
    {
      "cell_type": "code",
      "source": [
        "for i in range(1, 11):\n",
        "    print(f\"5x{i}={5*i}\")\n"
      ],
      "metadata": {
        "colab": {
          "base_uri": "https://localhost:8080/"
        },
        "id": "xRjZ6ddAImhq",
        "outputId": "5be0e488-931b-467c-f534-7266645fa979"
      },
      "execution_count": 2,
      "outputs": [
        {
          "output_type": "stream",
          "name": "stdout",
          "text": [
            "5x1=5\n",
            "5x2=10\n",
            "5x3=15\n",
            "5x4=20\n",
            "5x5=25\n",
            "5x6=30\n",
            "5x7=35\n",
            "5x8=40\n",
            "5x9=45\n",
            "5x10=50\n"
          ]
        }
      ]
    },
    {
      "cell_type": "code",
      "source": [
        "for i in range(10):\n",
        "    print(f\"5x{i+1}={5*(i+1)}\")\n"
      ],
      "metadata": {
        "colab": {
          "base_uri": "https://localhost:8080/"
        },
        "id": "gnIdk1bNIup4",
        "outputId": "3d7e0fa5-8853-4985-b2d7-37cf3074ed84"
      },
      "execution_count": 3,
      "outputs": [
        {
          "output_type": "stream",
          "name": "stdout",
          "text": [
            "5x1=5\n",
            "5x2=10\n",
            "5x3=15\n",
            "5x4=20\n",
            "5x5=25\n",
            "5x6=30\n",
            "5x7=35\n",
            "5x8=40\n",
            "5x9=45\n",
            "5x10=50\n"
          ]
        }
      ]
    },
    {
      "cell_type": "code",
      "source": [
        "# De una lista de 10 números, decir cuántos son pares\n",
        "cont = 0\n",
        "for num in range(1, 11):\n",
        "    a = int(input(\"Ingrese el número a analizar: \"))\n",
        "    if a % 2 == 0:\n",
        "        cont = cont + 1\n",
        "\n",
        "print(f\"La cantidad de pares en 10 números es {cont}\")\n"
      ],
      "metadata": {
        "id": "hHIWqHMnOKMw"
      },
      "execution_count": null,
      "outputs": []
    },
    {
      "cell_type": "code",
      "source": [
        "import random\n",
        "cont = 0\n",
        "for num in range(10):\n",
        "    a = random.randint(1, 40)\n",
        "    if a % 2 == 0:\n",
        "        cont = cont + 1\n",
        "\n",
        "print(f\"La cantidad de pares en 10 números es {cont}\")\n"
      ],
      "metadata": {
        "colab": {
          "base_uri": "https://localhost:8080/"
        },
        "id": "eMoywDgcIyDp",
        "outputId": "949439d7-ec0b-4849-df0f-633bacc5b085"
      },
      "execution_count": 4,
      "outputs": [
        {
          "output_type": "stream",
          "name": "stdout",
          "text": [
            "La cantidad de pares en 10 números es 4\n"
          ]
        }
      ]
    },
    {
      "cell_type": "code",
      "execution_count": 1,
      "metadata": {
        "colab": {
          "base_uri": "https://localhost:8080/"
        },
        "id": "p_W5TRJRDaYB",
        "outputId": "03b831ee-36fa-4a62-ea13-eb47a5b6f122"
      },
      "outputs": [
        {
          "output_type": "stream",
          "name": "stdout",
          "text": [
            "Ingresa un número: 4\n",
            "Ingresa un número: 8\n",
            "Ingresa un número: 9\n",
            "Ingresa un número: 5\n",
            "Ingresa un número: 7\n",
            "Ingresa un número: 5\n",
            "Ingresa un número: 5\n",
            "Ingresa un número: 7\n",
            "Ingresa un número: 8\n",
            "Ingresa un número: 9\n",
            "Números pares: 3\n"
          ]
        }
      ],
      "source": [
        "cont_par = 0\n",
        "\n",
        "for i in range(10):\n",
        "    numero = int(input(\"Ingresa un número: \"))\n",
        "\n",
        "    if numero % 2 == 0:\n",
        "        cont_par += 1\n",
        "\n",
        "print(f\"Números pares: {cont_par}\")\n",
        "\n"
      ]
    },
    {
      "cell_type": "code",
      "source": [
        "estudiantes = []\n",
        "\n",
        "# Ingresar los datos de 15 estudiantes\n",
        "for i in range(15):\n",
        "    nombre = input(f\"Ingrese el nombre del estudiante {i + 1}: \")\n",
        "\n",
        "    # Inicializamos las tres notas con una validación de entrada\n",
        "    notas = []\n",
        "    for j in range(1, 4):\n",
        "        while True:\n",
        "            try:\n",
        "                nota = float(input(f\"Ingrese la nota {j} de {nombre}: \"))\n",
        "                if 0 <= nota <= 100:  # Aseguramos que la nota esté en el rango 0-100\n",
        "                    notas.append(nota)\n",
        "                    break\n",
        "                else:\n",
        "                    print(\"La nota debe estar entre 0 y 100. Inténtalo de nuevo.\")\n",
        "            except ValueError:\n",
        "                print(\"Entrada inválida. Por favor, ingrese un número.\")\n",
        "\n",
        "    # Guardamos los datos del estudiante y sus notas\n",
        "    estudiantes.append({\n",
        "        \"nombre\": nombre,\n",
        "        \"notas\": notas\n",
        "    })\n",
        "\n",
        "# Reporte de calificaciones\n",
        "print(\"\\n--- Reporte de calificaciones ---\")\n",
        "for estudiante in estudiantes:\n",
        "    nombre = estudiante[\"nombre\"]\n",
        "    notas = estudiante[\"notas\"]\n",
        "\n",
        "    # Verificamos si todas las notas son 70 o más\n",
        "    if all(nota >= 70 for nota in notas):\n",
        "        promedio = sum(notas) / 3  # Calculamos el promedio si todas las notas son aprobadas\n",
        "    else:\n",
        "        promedio = \"NA\"  # No acreditado si alguna nota es menor a 70\n",
        "\n",
        "    # Imprimimos el reporte para cada estudiante\n",
        "    print(f\"Estudiante: {nombre}\")\n",
        "    print(f\"Notas: {notas[0]}, {notas[1]}, {notas[2]}\")\n",
        "    print(f\"Promedio: {promedio}\")\n",
        "    print(\"-----------------------------\")}"
      ],
      "metadata": {
        "colab": {
          "base_uri": "https://localhost:8080/"
        },
        "id": "i0YG6iNNPwsM",
        "outputId": "4f77cdb7-57b8-4bf0-951c-ce0de91d8957"
      },
      "execution_count": 2,
      "outputs": [
        {
          "output_type": "stream",
          "name": "stdout",
          "text": [
            "Ingrese el nombre del estudiante 1: Mariana\n",
            "Ingrese la nota 1 de Mariana: 100\n",
            "Ingrese la nota 2 de Mariana: 90\n",
            "Ingrese la nota 3 de Mariana: 95\n",
            "Ingrese el nombre del estudiante 2: Maria Paz\n",
            "Ingrese la nota 1 de Maria Paz: 100\n",
            "Ingrese la nota 2 de Maria Paz: 100\n",
            "Ingrese la nota 3 de Maria Paz: 95\n",
            "Ingrese el nombre del estudiante 3: Sebastian\n",
            "Ingrese la nota 1 de Sebastian: 40\n",
            "Ingrese la nota 2 de Sebastian: 80\n",
            "Ingrese la nota 3 de Sebastian: 90\n",
            "Ingrese el nombre del estudiante 4: Karol\n",
            "Ingrese la nota 1 de Karol: 40\n",
            "Ingrese la nota 2 de Karol: 55\n",
            "Ingrese la nota 3 de Karol: 60\n",
            "Ingrese el nombre del estudiante 5: Jineth\n",
            "Ingrese la nota 1 de Jineth: 70\n",
            "Ingrese la nota 2 de Jineth: 84\n",
            "Ingrese la nota 3 de Jineth: 73\n",
            "Ingrese el nombre del estudiante 6: Michelle\n",
            "Ingrese la nota 1 de Michelle: 100\n",
            "Ingrese la nota 2 de Michelle: 45\n",
            "Ingrese la nota 3 de Michelle: 80\n",
            "Ingrese el nombre del estudiante 7: Monica\n",
            "Ingrese la nota 1 de Monica: 41\n",
            "Ingrese la nota 2 de Monica: 23\n",
            "Ingrese la nota 3 de Monica: 32\n",
            "Ingrese el nombre del estudiante 8: Franchesca\n",
            "Ingrese la nota 1 de Franchesca: 100\n",
            "Ingrese la nota 2 de Franchesca: 100\n",
            "Ingrese la nota 3 de Franchesca: 88\n",
            "Ingrese el nombre del estudiante 9: Paula\n",
            "Ingrese la nota 1 de Paula: 79\n",
            "Ingrese la nota 2 de Paula: 85\n",
            "Ingrese la nota 3 de Paula: 62\n",
            "Ingrese el nombre del estudiante 10: Carlo\n",
            "Ingrese la nota 1 de Carlo: 65\n",
            "Ingrese la nota 2 de Carlo: 77\n",
            "Ingrese la nota 3 de Carlo: 92\n",
            "Ingrese el nombre del estudiante 11: Chiara\n",
            "Ingrese la nota 1 de Chiara: 100\n",
            "Ingrese la nota 2 de Chiara: 45\n",
            "Ingrese la nota 3 de Chiara: 100\n",
            "Ingrese el nombre del estudiante 12: Lina\n",
            "Ingrese la nota 1 de Lina: 95\n",
            "Ingrese la nota 2 de Lina: 78\n",
            "Ingrese la nota 3 de Lina: 91\n",
            "Ingrese el nombre del estudiante 13: Ana\n",
            "Ingrese la nota 1 de Ana: 94\n",
            "Ingrese la nota 2 de Ana: 64\n",
            "Ingrese la nota 3 de Ana: 44\n",
            "Ingrese el nombre del estudiante 14: Violetta\n",
            "Ingrese la nota 1 de Violetta: 67\n",
            "Ingrese la nota 2 de Violetta: 85\n",
            "Ingrese la nota 3 de Violetta: 74\n",
            "Ingrese el nombre del estudiante 15: Alisson\n",
            "Ingrese la nota 1 de Alisson: 100\n",
            "Ingrese la nota 2 de Alisson: 99\n",
            "Ingrese la nota 3 de Alisson: 100\n",
            "\n",
            "--- Reporte de calificaciones ---\n",
            "Estudiante: Mariana\n",
            "Notas: 100.0, 90.0, 95.0\n",
            "Promedio: 95.0\n",
            "-----------------------------\n",
            "Estudiante: Maria Paz\n",
            "Notas: 100.0, 100.0, 95.0\n",
            "Promedio: 98.33333333333333\n",
            "-----------------------------\n",
            "Estudiante: Sebastian\n",
            "Notas: 40.0, 80.0, 90.0\n",
            "Promedio: NA\n",
            "-----------------------------\n",
            "Estudiante: Karol\n",
            "Notas: 40.0, 55.0, 60.0\n",
            "Promedio: NA\n",
            "-----------------------------\n",
            "Estudiante: Jineth\n",
            "Notas: 70.0, 84.0, 73.0\n",
            "Promedio: 75.66666666666667\n",
            "-----------------------------\n",
            "Estudiante: Michelle\n",
            "Notas: 100.0, 45.0, 80.0\n",
            "Promedio: NA\n",
            "-----------------------------\n",
            "Estudiante: Monica\n",
            "Notas: 41.0, 23.0, 32.0\n",
            "Promedio: NA\n",
            "-----------------------------\n",
            "Estudiante: Franchesca\n",
            "Notas: 100.0, 100.0, 88.0\n",
            "Promedio: 96.0\n",
            "-----------------------------\n",
            "Estudiante: Paula\n",
            "Notas: 79.0, 85.0, 62.0\n",
            "Promedio: NA\n",
            "-----------------------------\n",
            "Estudiante: Carlo\n",
            "Notas: 65.0, 77.0, 92.0\n",
            "Promedio: NA\n",
            "-----------------------------\n",
            "Estudiante: Chiara\n",
            "Notas: 100.0, 45.0, 100.0\n",
            "Promedio: NA\n",
            "-----------------------------\n",
            "Estudiante: Lina\n",
            "Notas: 95.0, 78.0, 91.0\n",
            "Promedio: 88.0\n",
            "-----------------------------\n",
            "Estudiante: Ana\n",
            "Notas: 94.0, 64.0, 44.0\n",
            "Promedio: NA\n",
            "-----------------------------\n",
            "Estudiante: Violetta\n",
            "Notas: 67.0, 85.0, 74.0\n",
            "Promedio: NA\n",
            "-----------------------------\n",
            "Estudiante: Alisson\n",
            "Notas: 100.0, 99.0, 100.0\n",
            "Promedio: 99.66666666666667\n",
            "-----------------------------\n"
          ]
        }
      ]
    }
  ]
}