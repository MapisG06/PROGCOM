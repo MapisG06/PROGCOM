{
  "nbformat": 4,
  "nbformat_minor": 0,
  "metadata": {
    "colab": {
      "provenance": []
    },
    "kernelspec": {
      "name": "python3",
      "display_name": "Python 3"
    },
    "language_info": {
      "name": "python"
    }
  },
  "cells": [
    {
      "cell_type": "code",
      "execution_count": null,
      "metadata": {
        "colab": {
          "base_uri": "https://localhost:8080/"
        },
        "id": "npJzBYemlz9R",
        "outputId": "3377bba0-79d8-4c41-ddee-783481a4ceec"
      },
      "outputs": [
        {
          "output_type": "stream",
          "name": "stdout",
          "text": [
            "Lista 1 (Fechas de nacimiento): [2006, 7, 6, 1976, 4, 6]\n",
            "Lista 2 (Nombres): ['Maria Paz', 'Marcia']\n",
            "Diccionario (Fecha de nacimiento y nombres): {'Fecha de nacimiento de Maria Paz': [2006, 7, 6], 'Fecha de nacimiento de Marcia': [1976, 4, 6]}\n"
          ]
        }
      ],
      "source": [
        "\n",
        "fecha_nacimiento_usuario = [2006, 7, 6]\n",
        "fecha_nacimiento_familiar = [1976, 4, 6]\n",
        "\n",
        "nombre_usuario = \"Maria Paz\"\n",
        "nombre_familiar = \"Marcia\"\n",
        "\n",
        "\n",
        "lista1 = fecha_nacimiento_usuario + fecha_nacimiento_familiar\n",
        "lista2 = [nombre_usuario, nombre_familiar]\n",
        "\n",
        "diccionario = {\n",
        "    \"Fecha de nacimiento de \" + nombre_usuario: fecha_nacimiento_usuario,\n",
        "    \"Fecha de nacimiento de \" + nombre_familiar: fecha_nacimiento_familiar\n",
        "}\n",
        "\n",
        "print(\"Lista 1 (Fechas de nacimiento):\", lista1)\n",
        "print(\"Lista 2 (Nombres):\", lista2)\n",
        "print(\"Diccionario (Fecha de nacimiento y nombres):\", diccionario)\n"
      ]
    },
    {
      "cell_type": "markdown",
      "source": [],
      "metadata": {
        "id": "CavbL7mXoNxN"
      }
    },
    {
      "cell_type": "markdown",
      "source": [
        "#Definicion: lista\n",
        "Una lista en Python es una colección de elementos ordenados que pueden ser de cualquier tipo (números, cadenas, otros objetos) y se identifican mediante un índice. Las listas en Python son mutables, lo que significa que se pueden modificar después de haber sido creadas."
      ],
      "metadata": {
        "id": "1Q_o4akLoRTO"
      }
    },
    {
      "cell_type": "markdown",
      "source": [
        "#append():\n",
        " Añade un elemento al final de la lista."
      ],
      "metadata": {
        "id": "NGF9OOHJoiKy"
      }
    },
    {
      "cell_type": "code",
      "source": [
        "lista = [1, 2, 3]\n",
        "lista.append(4)\n",
        "print(lista)  # Resultado: [1, 2, 3, 4]\n"
      ],
      "metadata": {
        "colab": {
          "base_uri": "https://localhost:8080/"
        },
        "id": "M7feOEyZolHg",
        "outputId": "d33284ec-f447-4ae1-bbbe-e97c865728d7"
      },
      "execution_count": null,
      "outputs": [
        {
          "output_type": "stream",
          "name": "stdout",
          "text": [
            "[1, 2, 3, 4]\n"
          ]
        }
      ]
    },
    {
      "cell_type": "markdown",
      "source": [
        "#insert():\n",
        " Inserta un elemento en una posición específica."
      ],
      "metadata": {
        "id": "3H31CDAiqVCF"
      }
    },
    {
      "cell_type": "code",
      "source": [
        "lista = [1, 2, 3]\n",
        "lista.insert(1, \"a\")\n",
        "print(lista)  # Resultado: [1, \"a\", 2, 3]\n"
      ],
      "metadata": {
        "colab": {
          "base_uri": "https://localhost:8080/"
        },
        "id": "N02Piip7qaSk",
        "outputId": "f33fbd8c-6164-42d5-cbef-b082738be1f7"
      },
      "execution_count": null,
      "outputs": [
        {
          "output_type": "stream",
          "name": "stdout",
          "text": [
            "[1, 'a', 2, 3]\n"
          ]
        }
      ]
    },
    {
      "cell_type": "markdown",
      "source": [
        "#remove():\n",
        "Elimina la primera aparición de un elemento específico.\n",
        "\n"
      ],
      "metadata": {
        "id": "6eKBf7ugqiim"
      }
    },
    {
      "cell_type": "code",
      "source": [
        "lista = [1, 2, 3, 2]\n",
        "lista.remove(2)\n",
        "print(lista)  # Resultado: [1, 3, 2]\n"
      ],
      "metadata": {
        "colab": {
          "base_uri": "https://localhost:8080/"
        },
        "id": "KBMrfwDnqkzL",
        "outputId": "035ea928-2983-4f7a-9c8d-e6f4be0e5fc9"
      },
      "execution_count": null,
      "outputs": [
        {
          "output_type": "stream",
          "name": "stdout",
          "text": [
            "[1, 3, 2]\n"
          ]
        }
      ]
    },
    {
      "cell_type": "markdown",
      "source": [
        "#pop():\n",
        "Elimina y devuelve el elemento en la posición especificada (o el último si no se especifica)."
      ],
      "metadata": {
        "id": "gOFTEQTxqpls"
      }
    },
    {
      "cell_type": "code",
      "source": [
        "lista = [1, 2, 3]\n",
        "lista.pop()\n",
        "print(lista)  # Resultado: [1, 2]\n"
      ],
      "metadata": {
        "colab": {
          "base_uri": "https://localhost:8080/"
        },
        "id": "f-kTLpi2qse5",
        "outputId": "45d4a10e-1d76-456d-bea4-b286aa4a0ba9"
      },
      "execution_count": null,
      "outputs": [
        {
          "output_type": "stream",
          "name": "stdout",
          "text": [
            "[1, 2]\n"
          ]
        }
      ]
    },
    {
      "cell_type": "markdown",
      "source": [
        "#index():\n",
        " Devuelve el índice de la primera aparición del valor especificado.\n",
        "\n"
      ],
      "metadata": {
        "id": "tdBzzbz_qyjy"
      }
    },
    {
      "cell_type": "code",
      "source": [
        "lista = [1, 2, 3, 2]\n",
        "print(lista.index(2))  # Resultado: 1\n"
      ],
      "metadata": {
        "colab": {
          "base_uri": "https://localhost:8080/"
        },
        "id": "j9sboglwq0qN",
        "outputId": "c2eb174e-ce71-4f8e-b0d6-19ed411a4fe9"
      },
      "execution_count": null,
      "outputs": [
        {
          "output_type": "stream",
          "name": "stdout",
          "text": [
            "1\n"
          ]
        }
      ]
    },
    {
      "cell_type": "markdown",
      "source": [
        "#count():\n",
        " Devuelve el número de veces que aparece un valor en la lista.\n",
        "\n"
      ],
      "metadata": {
        "id": "t3wkLhMHq3Cj"
      }
    },
    {
      "cell_type": "code",
      "source": [
        "lista = [1, 2, 2, 3]\n",
        "print(lista.count(2))  # Resultado: 2\n"
      ],
      "metadata": {
        "colab": {
          "base_uri": "https://localhost:8080/"
        },
        "id": "ffxB37n9q6N-",
        "outputId": "bc096fdb-d01d-46d5-b955-c64436ba5c14"
      },
      "execution_count": null,
      "outputs": [
        {
          "output_type": "stream",
          "name": "stdout",
          "text": [
            "2\n"
          ]
        }
      ]
    },
    {
      "cell_type": "markdown",
      "source": [
        "#sort():\n",
        "Ordena los elementos de la lista en su lugar (por defecto en orden ascendente).\n",
        "\n"
      ],
      "metadata": {
        "id": "b4HCLaoRq98I"
      }
    },
    {
      "cell_type": "code",
      "source": [
        "lista = [3, 1, 2]\n",
        "lista.sort()\n",
        "print(lista)  # Resultado: [1, 2, 3]\n"
      ],
      "metadata": {
        "colab": {
          "base_uri": "https://localhost:8080/"
        },
        "id": "W-Ar6239rDac",
        "outputId": "d7f5f5aa-01e5-4c0b-ea8f-3565b7668cb3"
      },
      "execution_count": null,
      "outputs": [
        {
          "output_type": "stream",
          "name": "stdout",
          "text": [
            "[1, 2, 3]\n"
          ]
        }
      ]
    },
    {
      "cell_type": "markdown",
      "source": [
        "#reverse():\n",
        "Invierte el orden de los elementos de la lista.\n",
        "\n"
      ],
      "metadata": {
        "id": "tY91jK4HrGbn"
      }
    },
    {
      "cell_type": "code",
      "source": [
        "lista = [1, 2, 3]\n",
        "lista.reverse()\n",
        "print(lista)  # Resultado: [3, 2, 1]\n"
      ],
      "metadata": {
        "colab": {
          "base_uri": "https://localhost:8080/"
        },
        "id": "VfqtKw7wrJoH",
        "outputId": "c82305db-353d-4f5e-f78b-96361e0c0dde"
      },
      "execution_count": null,
      "outputs": [
        {
          "output_type": "stream",
          "name": "stdout",
          "text": [
            "[3, 2, 1]\n"
          ]
        }
      ]
    },
    {
      "cell_type": "markdown",
      "source": [
        "#extend():\n",
        "Añade todos los elementos de una lista a otra.\n",
        "\n"
      ],
      "metadata": {
        "id": "rWLlGcWsrLrB"
      }
    },
    {
      "cell_type": "code",
      "source": [
        "lista1 = [1, 2, 3]\n",
        "lista2 = [4, 5]\n",
        "lista1.extend(lista2)\n",
        "print(lista1)  # Resultado: [1, 2, 3, 4, 5]\n"
      ],
      "metadata": {
        "colab": {
          "base_uri": "https://localhost:8080/"
        },
        "id": "RY7AUdLGrPSI",
        "outputId": "9b0e1baa-01a6-41eb-874f-f24c1ea7499b"
      },
      "execution_count": null,
      "outputs": [
        {
          "output_type": "stream",
          "name": "stdout",
          "text": [
            "[1, 2, 3, 4, 5]\n"
          ]
        }
      ]
    },
    {
      "cell_type": "markdown",
      "source": [],
      "metadata": {
        "id": "XvwwZWq6rQTm"
      }
    },
    {
      "cell_type": "markdown",
      "source": [
        "#clear():\n",
        "Elimina todos los elementos de la lista.\n",
        "\n"
      ],
      "metadata": {
        "id": "Fc0ZuWHbrRrj"
      }
    },
    {
      "cell_type": "code",
      "source": [
        "lista = [1, 2, 3]\n",
        "lista.clear()\n",
        "print(lista)  # Resultado: []\n"
      ],
      "metadata": {
        "colab": {
          "base_uri": "https://localhost:8080/"
        },
        "id": "_6biAkckrX67",
        "outputId": "b194af17-4550-43dd-b190-d6d322f30e13"
      },
      "execution_count": null,
      "outputs": [
        {
          "output_type": "stream",
          "name": "stdout",
          "text": [
            "[]\n"
          ]
        }
      ]
    },
    {
      "cell_type": "markdown",
      "source": [
        "#Diccionarios\n",
        "Un diccionario en Python es una estructura de datos que almacena pares de clave-valor, donde cada clave es única y se utiliza para acceder a su valor asociado. Se define usando llaves {} y permite una búsqueda eficiente de valores mediante sus claves."
      ],
      "metadata": {
        "id": "KqDNh2tUXhjq"
      }
    },
    {
      "cell_type": "code",
      "source": [
        "datos = {\n",
        "    'año_nacimiento_1': '2006',\n",
        "    'mes_nacimiento_1': '07',\n",
        "    'dia_nacimiento_1': '06',\n",
        "    'año_nacimiento_2': '1976',\n",
        "    'mes_nacimiento_2': '04',\n",
        "    'dia_nacimiento_2': '06'\n",
        "}\n",
        "\n",
        "#dict.get:Este método devuelve el valor de una clave. Si la clave no existe, devuelve un valor por defecto (opcional).\n",
        "\n",
        "valor = datos.get('año_nacimiento_1')\n",
        "print(valor)\n",
        "\n",
        "valor_inexistente = datos.get('año_nacimiento_3', 'No existe')\n",
        "print(valor_inexistente)"
      ],
      "metadata": {
        "colab": {
          "base_uri": "https://localhost:8080/"
        },
        "id": "54FjsdPJX93J",
        "outputId": "76394879-6326-45e2-f65d-eb6f908d92ce"
      },
      "execution_count": 1,
      "outputs": [
        {
          "output_type": "stream",
          "name": "stdout",
          "text": [
            "2006\n",
            "No existe\n"
          ]
        }
      ]
    },
    {
      "cell_type": "code",
      "source": [
        "datos = {\n",
        "    'año_nacimiento_1': '2006',\n",
        "    'mes_nacimiento_1': '07',\n",
        "    'dia_nacimiento_1': '06',\n",
        "    'año_nacimiento_2': '1976',\n",
        "    'mes_nacimiento_2': '04',\n",
        "    'dia_nacimiento_2': '06'\n",
        "}\n",
        "\n",
        "#dict.keys:Devuelve una vista de todas las claves del diccionario.\n",
        "\n",
        "claves = datos.keys()\n",
        "print(claves)"
      ],
      "metadata": {
        "colab": {
          "base_uri": "https://localhost:8080/"
        },
        "id": "K1WyrI-pYugn",
        "outputId": "d8da871f-e616-4ec6-9752-1adc4714e21e"
      },
      "execution_count": 2,
      "outputs": [
        {
          "output_type": "stream",
          "name": "stdout",
          "text": [
            "dict_keys(['año_nacimiento_1', 'mes_nacimiento_1', 'dia_nacimiento_1', 'año_nacimiento_2', 'mes_nacimiento_2', 'dia_nacimiento_2'])\n"
          ]
        }
      ]
    },
    {
      "cell_type": "code",
      "source": [
        "datos = {\n",
        "    'año_nacimiento_1': '2006',\n",
        "    'mes_nacimiento_1': '02',\n",
        "    'dia_nacimiento_1': '13',\n",
        "    'año_nacimiento_2': '1980',\n",
        "    'mes_nacimiento_2': '06',\n",
        "    'dia_nacimiento_2': '09'\n",
        "}\n",
        "\n",
        "#dict.values:Devuelve una vista de todos los valores del diccionario.\n",
        "\n",
        "valores = datos.values()\n",
        "print(valores)"
      ],
      "metadata": {
        "colab": {
          "base_uri": "https://localhost:8080/"
        },
        "id": "U_h7GD2yY4gF",
        "outputId": "d66ee954-34ad-49c2-d4d1-c6a0cd76411b"
      },
      "execution_count": 3,
      "outputs": [
        {
          "output_type": "stream",
          "name": "stdout",
          "text": [
            "dict_values(['2006', '02', '13', '1980', '06', '09'])\n"
          ]
        }
      ]
    },
    {
      "cell_type": "code",
      "source": [
        "datos = {\n",
        "    'año_nacimiento_1': '2006',\n",
        "    'mes_nacimiento_1': '02',\n",
        "    'dia_nacimiento_1': '13',\n",
        "    'año_nacimiento_2': '1980',\n",
        "    'mes_nacimiento_2': '06',\n",
        "    'dia_nacimiento_2': '09'\n",
        "}\n",
        "\n",
        "#dict.items:Devuelve una vista de los pares clave-valor del diccionario como tuplas.\n",
        "\n",
        "elementos = datos.items()\n",
        "print(elementos)\n"
      ],
      "metadata": {
        "colab": {
          "base_uri": "https://localhost:8080/"
        },
        "id": "IMXrZzAgY9s1",
        "outputId": "a752a072-b7b9-4e4b-b6f1-9a37f7da8c3d"
      },
      "execution_count": 4,
      "outputs": [
        {
          "output_type": "stream",
          "name": "stdout",
          "text": [
            "dict_items([('año_nacimiento_1', '2006'), ('mes_nacimiento_1', '02'), ('dia_nacimiento_1', '13'), ('año_nacimiento_2', '1980'), ('mes_nacimiento_2', '06'), ('dia_nacimiento_2', '09')])\n"
          ]
        }
      ]
    },
    {
      "cell_type": "code",
      "source": [
        "datos = {\n",
        "    'año_nacimiento_1': '2006',\n",
        "    'mes_nacimiento_1': '07',\n",
        "    'dia_nacimiento_1': '06',\n",
        "    'año_nacimiento_2': '1976',\n",
        "    'mes_nacimiento_2': '04',\n",
        "    'dia_nacimiento_2': '06'\n",
        "}\n",
        "\n",
        "#dict.update:Actualiza el diccionario con los elementos de otro diccionario o pares clave-valor.\n",
        "\n",
        "datos.update({'dia_nacimiento_1': '14'})\n",
        "print(datos['dia_nacimiento_1'])"
      ],
      "metadata": {
        "colab": {
          "base_uri": "https://localhost:8080/"
        },
        "id": "LEN17ZasZBPv",
        "outputId": "ec9c1a9a-40f5-42e6-8e87-0b9338e96907"
      },
      "execution_count": 7,
      "outputs": [
        {
          "output_type": "stream",
          "name": "stdout",
          "text": [
            "14\n"
          ]
        }
      ]
    },
    {
      "cell_type": "code",
      "source": [
        "datos = {\n",
        "    'año_nacimiento_1': '2006',\n",
        "    'mes_nacimiento_1': '07',\n",
        "    'dia_nacimiento_1': '06',\n",
        "    'año_nacimiento_2': '1976',\n",
        "    'mes_nacimiento_2': '04',\n",
        "    'dia_nacimiento_2': '06'\n",
        "}\n",
        "\n",
        "#dict.pop:Elimina un elemento del diccionario y devuelve su valor. Si la clave no existe, puedes proporcionar un valor por defecto.\n",
        "\n",
        "valor_eliminado = datos.pop('mes_nacimiento_2')\n",
        "print(valor_eliminado)\n",
        "print(datos)"
      ],
      "metadata": {
        "colab": {
          "base_uri": "https://localhost:8080/"
        },
        "id": "7FUnf5wHZr8N",
        "outputId": "2c5fb89e-0370-4031-b309-0b587ef10e98"
      },
      "execution_count": 8,
      "outputs": [
        {
          "output_type": "stream",
          "name": "stdout",
          "text": [
            "04\n",
            "{'año_nacimiento_1': '2006', 'mes_nacimiento_1': '07', 'dia_nacimiento_1': '06', 'año_nacimiento_2': '1976', 'dia_nacimiento_2': '06'}\n"
          ]
        }
      ]
    },
    {
      "cell_type": "code",
      "source": [
        "datos = {\n",
        "    'año_nacimiento_1': '2006',\n",
        "    'mes_nacimiento_1': '07',\n",
        "    'dia_nacimiento_1': '06',\n",
        "    'año_nacimiento_2': '1976',\n",
        "    'mes_nacimiento_2': '04',\n",
        "    'dia_nacimiento_2': '06'\n",
        "}\n",
        "\n",
        "#dict.clear:Elimina todos los elementos del diccionario.\n",
        "\n",
        "datos_vacios = datos.copy()\n",
        "datos_vacios.clear()\n",
        "print(datos_vacios)"
      ],
      "metadata": {
        "colab": {
          "base_uri": "https://localhost:8080/"
        },
        "id": "gbrcTRIvZ35g",
        "outputId": "224155ea-4dfa-4e27-d791-470fd057e93e"
      },
      "execution_count": 9,
      "outputs": [
        {
          "output_type": "stream",
          "name": "stdout",
          "text": [
            "{}\n"
          ]
        }
      ]
    },
    {
      "cell_type": "code",
      "source": [
        "datos = {\n",
        "    'año_nacimiento_1': '2006',\n",
        "    'mes_nacimiento_1': '07',\n",
        "    'dia_nacimiento_1': '06',\n",
        "    'año_nacimiento_2': '1976',\n",
        "    'mes_nacimiento_2': '04',\n",
        "    'dia_nacimiento_2': '06'\n",
        "}\n",
        "\n",
        "\n",
        "#dict.copy:Devuelve una copia superficial del diccionario.\n",
        "\n",
        "datos_copia = datos.copy()\n",
        "print(datos_copia)\n"
      ],
      "metadata": {
        "colab": {
          "base_uri": "https://localhost:8080/"
        },
        "id": "lJDdJIuqaAku",
        "outputId": "4e22a7bf-9f05-4e62-af6d-cb363fb46b63"
      },
      "execution_count": 10,
      "outputs": [
        {
          "output_type": "stream",
          "name": "stdout",
          "text": [
            "{'año_nacimiento_1': '2006', 'mes_nacimiento_1': '07', 'dia_nacimiento_1': '06', 'año_nacimiento_2': '1976', 'mes_nacimiento_2': '04', 'dia_nacimiento_2': '06'}\n"
          ]
        }
      ]
    },
    {
      "cell_type": "code",
      "source": [
        "datos = {\n",
        "    'año_nacimiento_1': '2006',\n",
        "    'mes_nacimiento_1': '07',\n",
        "    'dia_nacimiento_1': '06',\n",
        "    'año_nacimiento_2': '1976',\n",
        "    'mes_nacimiento_2': '04',\n",
        "    'dia_nacimiento_2': '06'\n",
        "}\n",
        "\n",
        "#dict.setdefault:Devuelve el valor de una clave si existe; de lo contrario, inserta la clave con un valor por defecto.\n",
        "\n",
        "mes = datos.setdefault('mes_nacimiento_3', '08')\n",
        "print(datos)"
      ],
      "metadata": {
        "colab": {
          "base_uri": "https://localhost:8080/"
        },
        "id": "qjNw1fV6aPSI",
        "outputId": "9b0a5bba-a28d-4b5c-9fac-34709139ea39"
      },
      "execution_count": 11,
      "outputs": [
        {
          "output_type": "stream",
          "name": "stdout",
          "text": [
            "{'año_nacimiento_1': '2006', 'mes_nacimiento_1': '07', 'dia_nacimiento_1': '06', 'año_nacimiento_2': '1976', 'mes_nacimiento_2': '04', 'dia_nacimiento_2': '06', 'mes_nacimiento_3': '08'}\n"
          ]
        }
      ]
    },
    {
      "cell_type": "code",
      "source": [
        "datos = {\n",
        "    'año_nacimiento_1': '2006',\n",
        "    'mes_nacimiento_1': '07',\n",
        "    'dia_nacimiento_1': '06',\n",
        "    'año_nacimiento_2': '1976',\n",
        "    'mes_nacimiento_2': '04',\n",
        "    'dia_nacimiento_2': '06'\n",
        "}\n",
        "\n",
        "#dict.fromkeys:Crea un nuevo diccionario con las claves dadas y un valor por defecto (opcional).\n",
        "\n",
        "nuevas_claves = ['clave_1', 'clave_2', 'clave_3']\n",
        "nuevo_diccionario = dict.fromkeys(nuevas_claves, 'valor_por_defecto')\n",
        "print(nuevo_diccionario)\n"
      ],
      "metadata": {
        "colab": {
          "base_uri": "https://localhost:8080/"
        },
        "id": "HZ9MoyZ5aap7",
        "outputId": "42c12cd0-5368-43a4-9d49-8b97762e2b94"
      },
      "execution_count": 12,
      "outputs": [
        {
          "output_type": "stream",
          "name": "stdout",
          "text": [
            "{'clave_1': 'valor_por_defecto', 'clave_2': 'valor_por_defecto', 'clave_3': 'valor_por_defecto'}\n"
          ]
        }
      ]
    }
  ]
}