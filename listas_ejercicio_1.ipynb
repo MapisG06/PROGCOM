{
  "nbformat": 4,
  "nbformat_minor": 0,
  "metadata": {
    "colab": {
      "provenance": []
    },
    "kernelspec": {
      "name": "python3",
      "display_name": "Python 3"
    },
    "language_info": {
      "name": "python"
    }
  },
  "cells": [
    {
      "cell_type": "code",
      "execution_count": 1,
      "metadata": {
        "colab": {
          "base_uri": "https://localhost:8080/"
        },
        "id": "npJzBYemlz9R",
        "outputId": "3377bba0-79d8-4c41-ddee-783481a4ceec"
      },
      "outputs": [
        {
          "output_type": "stream",
          "name": "stdout",
          "text": [
            "Lista 1 (Fechas de nacimiento): [2006, 7, 6, 1976, 4, 6]\n",
            "Lista 2 (Nombres): ['Maria Paz', 'Marcia']\n",
            "Diccionario (Fecha de nacimiento y nombres): {'Fecha de nacimiento de Maria Paz': [2006, 7, 6], 'Fecha de nacimiento de Marcia': [1976, 4, 6]}\n"
          ]
        }
      ],
      "source": [
        "\n",
        "fecha_nacimiento_usuario = [2006, 7, 6]\n",
        "fecha_nacimiento_familiar = [1976, 4, 6]\n",
        "\n",
        "nombre_usuario = \"Maria Paz\"\n",
        "nombre_familiar = \"Marcia\"\n",
        "\n",
        "\n",
        "lista1 = fecha_nacimiento_usuario + fecha_nacimiento_familiar\n",
        "lista2 = [nombre_usuario, nombre_familiar]\n",
        "\n",
        "diccionario = {\n",
        "    \"Fecha de nacimiento de \" + nombre_usuario: fecha_nacimiento_usuario,\n",
        "    \"Fecha de nacimiento de \" + nombre_familiar: fecha_nacimiento_familiar\n",
        "}\n",
        "\n",
        "print(\"Lista 1 (Fechas de nacimiento):\", lista1)\n",
        "print(\"Lista 2 (Nombres):\", lista2)\n",
        "print(\"Diccionario (Fecha de nacimiento y nombres):\", diccionario)\n"
      ]
    },
    {
      "cell_type": "markdown",
      "source": [],
      "metadata": {
        "id": "CavbL7mXoNxN"
      }
    },
    {
      "cell_type": "markdown",
      "source": [
        "#Definicion: lista\n",
        "Una lista en Python es una colección de elementos ordenados que pueden ser de cualquier tipo (números, cadenas, otros objetos) y se identifican mediante un índice. Las listas en Python son mutables, lo que significa que se pueden modificar después de haber sido creadas."
      ],
      "metadata": {
        "id": "1Q_o4akLoRTO"
      }
    },
    {
      "cell_type": "markdown",
      "source": [
        "#append():\n",
        " Añade un elemento al final de la lista."
      ],
      "metadata": {
        "id": "NGF9OOHJoiKy"
      }
    },
    {
      "cell_type": "code",
      "source": [
        "lista = [1, 2, 3]\n",
        "lista.append(4)\n",
        "print(lista)  # Resultado: [1, 2, 3, 4]\n"
      ],
      "metadata": {
        "colab": {
          "base_uri": "https://localhost:8080/"
        },
        "id": "M7feOEyZolHg",
        "outputId": "d33284ec-f447-4ae1-bbbe-e97c865728d7"
      },
      "execution_count": 3,
      "outputs": [
        {
          "output_type": "stream",
          "name": "stdout",
          "text": [
            "[1, 2, 3, 4]\n"
          ]
        }
      ]
    },
    {
      "cell_type": "markdown",
      "source": [
        "#insert():\n",
        " Inserta un elemento en una posición específica."
      ],
      "metadata": {
        "id": "3H31CDAiqVCF"
      }
    },
    {
      "cell_type": "code",
      "source": [
        "lista = [1, 2, 3]\n",
        "lista.insert(1, \"a\")\n",
        "print(lista)  # Resultado: [1, \"a\", 2, 3]\n"
      ],
      "metadata": {
        "colab": {
          "base_uri": "https://localhost:8080/"
        },
        "id": "N02Piip7qaSk",
        "outputId": "f33fbd8c-6164-42d5-cbef-b082738be1f7"
      },
      "execution_count": 4,
      "outputs": [
        {
          "output_type": "stream",
          "name": "stdout",
          "text": [
            "[1, 'a', 2, 3]\n"
          ]
        }
      ]
    },
    {
      "cell_type": "markdown",
      "source": [
        "#remove():\n",
        "Elimina la primera aparición de un elemento específico.\n",
        "\n"
      ],
      "metadata": {
        "id": "6eKBf7ugqiim"
      }
    },
    {
      "cell_type": "code",
      "source": [
        "lista = [1, 2, 3, 2]\n",
        "lista.remove(2)\n",
        "print(lista)  # Resultado: [1, 3, 2]\n"
      ],
      "metadata": {
        "colab": {
          "base_uri": "https://localhost:8080/"
        },
        "id": "KBMrfwDnqkzL",
        "outputId": "035ea928-2983-4f7a-9c8d-e6f4be0e5fc9"
      },
      "execution_count": 6,
      "outputs": [
        {
          "output_type": "stream",
          "name": "stdout",
          "text": [
            "[1, 3, 2]\n"
          ]
        }
      ]
    },
    {
      "cell_type": "markdown",
      "source": [
        "#pop():\n",
        "Elimina y devuelve el elemento en la posición especificada (o el último si no se especifica)."
      ],
      "metadata": {
        "id": "gOFTEQTxqpls"
      }
    },
    {
      "cell_type": "code",
      "source": [
        "lista = [1, 2, 3]\n",
        "lista.pop()\n",
        "print(lista)  # Resultado: [1, 2]\n"
      ],
      "metadata": {
        "colab": {
          "base_uri": "https://localhost:8080/"
        },
        "id": "f-kTLpi2qse5",
        "outputId": "45d4a10e-1d76-456d-bea4-b286aa4a0ba9"
      },
      "execution_count": 5,
      "outputs": [
        {
          "output_type": "stream",
          "name": "stdout",
          "text": [
            "[1, 2]\n"
          ]
        }
      ]
    },
    {
      "cell_type": "markdown",
      "source": [
        "#index():\n",
        " Devuelve el índice de la primera aparición del valor especificado.\n",
        "\n"
      ],
      "metadata": {
        "id": "tdBzzbz_qyjy"
      }
    },
    {
      "cell_type": "code",
      "source": [
        "lista = [1, 2, 3, 2]\n",
        "print(lista.index(2))  # Resultado: 1\n"
      ],
      "metadata": {
        "colab": {
          "base_uri": "https://localhost:8080/"
        },
        "id": "j9sboglwq0qN",
        "outputId": "c2eb174e-ce71-4f8e-b0d6-19ed411a4fe9"
      },
      "execution_count": 10,
      "outputs": [
        {
          "output_type": "stream",
          "name": "stdout",
          "text": [
            "1\n"
          ]
        }
      ]
    },
    {
      "cell_type": "markdown",
      "source": [
        "#count():\n",
        " Devuelve el número de veces que aparece un valor en la lista.\n",
        "\n"
      ],
      "metadata": {
        "id": "t3wkLhMHq3Cj"
      }
    },
    {
      "cell_type": "code",
      "source": [
        "lista = [1, 2, 2, 3]\n",
        "print(lista.count(2))  # Resultado: 2\n"
      ],
      "metadata": {
        "colab": {
          "base_uri": "https://localhost:8080/"
        },
        "id": "ffxB37n9q6N-",
        "outputId": "bc096fdb-d01d-46d5-b955-c64436ba5c14"
      },
      "execution_count": 9,
      "outputs": [
        {
          "output_type": "stream",
          "name": "stdout",
          "text": [
            "2\n"
          ]
        }
      ]
    },
    {
      "cell_type": "markdown",
      "source": [
        "#sort():\n",
        "Ordena los elementos de la lista en su lugar (por defecto en orden ascendente).\n",
        "\n"
      ],
      "metadata": {
        "id": "b4HCLaoRq98I"
      }
    },
    {
      "cell_type": "code",
      "source": [
        "lista = [3, 1, 2]\n",
        "lista.sort()\n",
        "print(lista)  # Resultado: [1, 2, 3]\n"
      ],
      "metadata": {
        "colab": {
          "base_uri": "https://localhost:8080/"
        },
        "id": "W-Ar6239rDac",
        "outputId": "d7f5f5aa-01e5-4c0b-ea8f-3565b7668cb3"
      },
      "execution_count": 8,
      "outputs": [
        {
          "output_type": "stream",
          "name": "stdout",
          "text": [
            "[1, 2, 3]\n"
          ]
        }
      ]
    },
    {
      "cell_type": "markdown",
      "source": [
        "#reverse():\n",
        "Invierte el orden de los elementos de la lista.\n",
        "\n"
      ],
      "metadata": {
        "id": "tY91jK4HrGbn"
      }
    },
    {
      "cell_type": "code",
      "source": [
        "lista = [1, 2, 3]\n",
        "lista.reverse()\n",
        "print(lista)  # Resultado: [3, 2, 1]\n"
      ],
      "metadata": {
        "colab": {
          "base_uri": "https://localhost:8080/"
        },
        "id": "VfqtKw7wrJoH",
        "outputId": "c82305db-353d-4f5e-f78b-96361e0c0dde"
      },
      "execution_count": 11,
      "outputs": [
        {
          "output_type": "stream",
          "name": "stdout",
          "text": [
            "[3, 2, 1]\n"
          ]
        }
      ]
    },
    {
      "cell_type": "markdown",
      "source": [
        "#extend():\n",
        "Añade todos los elementos de una lista a otra.\n",
        "\n"
      ],
      "metadata": {
        "id": "rWLlGcWsrLrB"
      }
    },
    {
      "cell_type": "code",
      "source": [
        "lista1 = [1, 2, 3]\n",
        "lista2 = [4, 5]\n",
        "lista1.extend(lista2)\n",
        "print(lista1)  # Resultado: [1, 2, 3, 4, 5]\n"
      ],
      "metadata": {
        "colab": {
          "base_uri": "https://localhost:8080/"
        },
        "id": "RY7AUdLGrPSI",
        "outputId": "9b0e1baa-01a6-41eb-874f-f24c1ea7499b"
      },
      "execution_count": 12,
      "outputs": [
        {
          "output_type": "stream",
          "name": "stdout",
          "text": [
            "[1, 2, 3, 4, 5]\n"
          ]
        }
      ]
    },
    {
      "cell_type": "markdown",
      "source": [],
      "metadata": {
        "id": "XvwwZWq6rQTm"
      }
    },
    {
      "cell_type": "markdown",
      "source": [
        "#clear():\n",
        "Elimina todos los elementos de la lista.\n",
        "\n"
      ],
      "metadata": {
        "id": "Fc0ZuWHbrRrj"
      }
    },
    {
      "cell_type": "code",
      "source": [
        "lista = [1, 2, 3]\n",
        "lista.clear()\n",
        "print(lista)  # Resultado: []\n"
      ],
      "metadata": {
        "colab": {
          "base_uri": "https://localhost:8080/"
        },
        "id": "_6biAkckrX67",
        "outputId": "b194af17-4550-43dd-b190-d6d322f30e13"
      },
      "execution_count": 13,
      "outputs": [
        {
          "output_type": "stream",
          "name": "stdout",
          "text": [
            "[]\n"
          ]
        }
      ]
    },
    {
      "cell_type": "markdown",
      "source": [
        "#EJEMPLO CON TODOS LOS METODOS"
      ],
      "metadata": {
        "id": "-Jv1FKtvrdhZ"
      }
    },
    {
      "cell_type": "code",
      "source": [
        "# Lista inicial\n",
        "lista = [1, 2, 3]\n",
        "\n",
        "# Agregar un elemento al final\n",
        "lista.append(4)  # [1, 2, 3, 4]\n",
        "\n",
        "# Insertar un elemento en la posición 1\n",
        "lista.insert(1, \"a\")  # [1, \"a\", 2, 3, 4]\n",
        "\n",
        "# Eliminar la primera aparición de 2\n",
        "lista.remove(2)  # [1, \"a\", 3, 4]\n",
        "\n",
        "# Eliminar el último elemento y retornarlo\n",
        "ultimo = lista.pop()  # lista: [1, \"a\", 3], ultimo: 4\n",
        "\n",
        "# Obtener el índice del elemento \"a\"\n",
        "indice_a = lista.index(\"a\")  # índice: 1\n",
        "\n",
        "# Contar cuántas veces aparece 3 en la lista\n",
        "conteo = lista.count(3)  # conteo: 1\n",
        "\n",
        "# Ordenar la lista (esto lanzaría un error aquí porque contiene diferentes tipos de datos)\n",
        "lista_numeros = [3, 1, 2]\n",
        "lista_numeros.sort()  # [1, 2, 3]\n",
        "\n",
        "# Invertir el orden de la lista\n",
        "lista_numeros.reverse()  # [3, 2, 1]\n",
        "\n",
        "# Extender la lista\n",
        "lista_numeros.extend([4, 5])  # [3, 2, 1, 4, 5]\n",
        "\n",
        "# Limpiar la lista\n",
        "lista_numeros.clear()  # []\n"
      ],
      "metadata": {
        "id": "aBPubEaxrh7r"
      },
      "execution_count": 14,
      "outputs": []
    }
  ]
}