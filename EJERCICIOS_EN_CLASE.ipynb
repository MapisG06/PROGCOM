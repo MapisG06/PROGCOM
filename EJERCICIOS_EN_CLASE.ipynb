{
  "nbformat": 4,
  "nbformat_minor": 0,
  "metadata": {
    "colab": {
      "provenance": []
    },
    "kernelspec": {
      "name": "python3",
      "display_name": "Python 3"
    },
    "language_info": {
      "name": "python"
    }
  },
  "cells": [
    {
      "cell_type": "code",
      "execution_count": null,
      "metadata": {
        "id": "UaUJGDO8Lj1C"
      },
      "outputs": [],
      "source": [
        "#Respuesta pra :v\n",
        "letra=input(\"ingrese la letra \")\n",
        "num=None\n",
        "for conv in (int,float):\n",
        "  try:\n",
        "    num=conv(letra)\n",
        "    break\n",
        "  except ValueError:\n",
        "    pass\n",
        "if num==None: print(f\"{letra} es una variable de tipo {type(letra)}\")\n",
        "else: print(f\"{letra} es una variable de tipo {type(num)}\")"
      ]
    },
    {
      "cell_type": "code",
      "source": [
        "a=int(\"a\")\n",
        "a= pra"
      ],
      "metadata": {
        "colab": {
          "base_uri": "https://localhost:8080/",
          "height": 147
        },
        "id": "rsIM_R6gMp5z",
        "outputId": "b94dc34b-4cac-4746-c32f-0b6c3772604a"
      },
      "execution_count": 1,
      "outputs": [
        {
          "output_type": "error",
          "ename": "ValueError",
          "evalue": "invalid literal for int() with base 10: 'a'",
          "traceback": [
            "\u001b[0;31m---------------------------------------------------------------------------\u001b[0m",
            "\u001b[0;31mValueError\u001b[0m                                Traceback (most recent call last)",
            "\u001b[0;32m<ipython-input-1-057992217641>\u001b[0m in \u001b[0;36m<cell line: 1>\u001b[0;34m()\u001b[0m\n\u001b[0;32m----> 1\u001b[0;31m \u001b[0ma\u001b[0m\u001b[0;34m=\u001b[0m\u001b[0mint\u001b[0m\u001b[0;34m(\u001b[0m\u001b[0;34m\"a\"\u001b[0m\u001b[0;34m)\u001b[0m\u001b[0;34m\u001b[0m\u001b[0;34m\u001b[0m\u001b[0m\n\u001b[0m",
            "\u001b[0;31mValueError\u001b[0m: invalid literal for int() with base 10: 'a'"
          ]
        }
      ]
    },
    {
      "cell_type": "code",
      "source": [
        "a=int(input(\"Ingrese el dividendo\"))\n",
        "b=int(input(\"Ingrese el divisor\"))\n",
        "try:\n",
        "  division=a/b\n",
        "  print(f\"{a}/{b}={division}\")\n",
        "except ZeroDivisionError:\n",
        "  print(\"Infinito\")"
      ],
      "metadata": {
        "id": "ITrRcYj1PPJO"
      },
      "execution_count": null,
      "outputs": []
    },
    {
      "cell_type": "code",
      "source": [
        "a=input(\"quieres helado? \")\n",
        "a=a[0].lower()\n",
        "if a==\"s\":\n",
        "  f=input(\"Que sabor quieres? \")\n",
        "  if f==\"chocolate\":print(f\"aqui esta su helado de {f} me debe 5000\")\n",
        "  elif f==\"vainilla\":print(f\"aqui esta su helado de {f} me debe 4000\")\n",
        "  elif f==\"fresa\":print(f\"aqui esta su helado de {f} me debe 10000\")\n",
        "  elif f==\"Ron con pasas\":print(f\"aqui esta su helado de {f} me debe 7000\")\n",
        "  else:print(\"lo siento, no tenemos ese sabor\")\n",
        "else:\n",
        "  print(\"ok\")\n"
      ],
      "metadata": {
        "colab": {
          "base_uri": "https://localhost:8080/",
          "height": 54
        },
        "id": "Wp3-79RoQVT_",
        "outputId": "cf8a6527-435d-4ef8-f383-01e3a7105847"
      },
      "execution_count": 4,
      "outputs": [
        {
          "name": "stdout",
          "output_type": "stream",
          "text": [
            "quieres helado? si\n"
          ]
        },
        {
          "output_type": "execute_result",
          "data": {
            "text/plain": [
              "'s'"
            ],
            "application/vnd.google.colaboratory.intrinsic+json": {
              "type": "string"
            }
          },
          "metadata": {},
          "execution_count": 4
        }
      ]
    },
    {
      "cell_type": "code",
      "source": [
        "a=input(\"quieres helado? \")\n",
        "a=a[0].lower()\n",
        "if a==\"s\":\n",
        "  f=input(\"Que sabor quieres? \")\n",
        "  match f:\n",
        "   case \"chocolate\":print(f\"aqui esta su helado de {f} me debe 5000\")\n",
        "   case \"vainilla\":print(f\"aqui esta su helado de {f} me debe 4000\")\n",
        "   case \"fresa\":print(f\"aqui esta su helado de {f} me debe 10000\")\n",
        "   case \"Ron con pasas\":print(f\"aqui esta su helado de {f} me debe 7000\")\n",
        "   case _:print(\"lo siento, no tenemos ese sabor\")\n",
        "else:\n",
        "  print(\"ok\")\n"
      ],
      "metadata": {
        "colab": {
          "base_uri": "https://localhost:8080/"
        },
        "id": "GVhMMDG1SKET",
        "outputId": "5d663017-29a5-4aa0-d535-eb88a52d8a6c"
      },
      "execution_count": 5,
      "outputs": [
        {
          "output_type": "stream",
          "name": "stdout",
          "text": [
            "quieres helado? si\n",
            "Que sabor quieres? vainilla\n",
            "aqui esta su helado de vainilla me debe 4000\n"
          ]
        }
      ]
    },
    {
      "cell_type": "code",
      "source": [
        "def determinar_tipo_letra(letra):\n",
        "    letra_lower = letra.lower()\n",
        "    match letra_lower:\n",
        "        case 'a':\n",
        "            if letra == 'A':\n",
        "                print(\"La letra es una vocal mayúscula.\")\n",
        "            else:\n",
        "                print(\"La letra es una vocal minúscula.\")\n",
        "        case 'e':\n",
        "            if letra == 'E':\n",
        "                print(\"La letra es una vocal mayúscula.\")\n",
        "            else:\n",
        "                print(\"La letra es una vocal minúscula.\")\n",
        "        case 'i':\n",
        "            if letra == 'I':\n",
        "                print(\"La letra es una vocal mayúscula.\")\n",
        "            else:\n",
        "                print(\"La letra es una vocal minúscula.\")\n",
        "        case 'o':\n",
        "            if letra == 'O':\n",
        "                print(\"La letra es una vocal mayúscula.\")\n",
        "            else:\n",
        "                print(\"La letra es una vocal minúscula.\")\n",
        "        case 'u':\n",
        "            if letra == 'U':\n",
        "                print(\"La letra es una vocal mayúscula.\")\n",
        "            else:\n",
        "                print(\"La letra es una vocal minúscula.\")\n",
        "        case _:\n",
        "            print(\"La letra no es una vocal.\")\n",
        "\n",
        "def main():\n",
        "    letra = input(\"Introduce una letra: \").strip()\n",
        "\n",
        "    if len(letra) != 1 or not letra.isalpha():\n",
        "        print(\"Por favor, introduce una única letra.\")\n",
        "        return\n",
        "\n",
        "    determinar_tipo_letra(letra)\n",
        "\n",
        "if __name__ == \"__main__\":\n",
        "    main()\n",
        "\n",
        "\n",
        "\n"
      ],
      "metadata": {
        "id": "pp7754LGUZc7"
      },
      "execution_count": null,
      "outputs": []
    },
    {
      "cell_type": "code",
      "source": [
        "def tipo_dia(dia):\n",
        "    match dia.lower():\n",
        "        case \"sábado\" | \"sabado\" | \"domingo\":\n",
        "            return \"Es fin de semana.\"\n",
        "        case _:\n",
        "            if dia.lower() in [\"lunes\", \"martes\", \"miércoles\", \"miercoles\", \"jueves\", \"viernes\"]:\n",
        "                return \"Es un día entre semana.\"\n",
        "            else:\n",
        "                return \"El día ingresado no es válido.\"\n",
        "\n",
        "dia = input(\"Introduce un día de la semana: \")\n",
        "resultado = tipo_dia(dia)\n",
        "print(resultado)"
      ],
      "metadata": {
        "colab": {
          "base_uri": "https://localhost:8080/"
        },
        "id": "6YIGawVvWm4d",
        "outputId": "8106d53d-6ff6-4540-d543-3a4e38a3157c"
      },
      "execution_count": 6,
      "outputs": [
        {
          "output_type": "stream",
          "name": "stdout",
          "text": [
            "Introduce un día de la semana: lunes\n",
            "Es un día entre semana.\n"
          ]
        }
      ]
    },
    {
      "cell_type": "code",
      "source": [
        "# Match\n",
        "letra = input(\"Ingrese una letra\")\n",
        "match letra:\n",
        "    case \"a\"|\"e\"|\"i\"|\"o\"|\"u\": print(\"Es una vocal minúscula\")\n",
        "    case \"A\"|\"E\"|\"I\"|\"O\"|\"U\": print(\"Es una vocal mayúscula\")\n",
        "    case _: print(\"No es una vocal\")\n",
        "\n",
        "# Elif\n",
        "letra = input(\"Ingrese una letra\")\n",
        "if letra in 'aeiou':\n",
        "    print(\"Es una vocal minúscula\")\n",
        "elif letra in 'AEIOU':\n",
        "    print(\"Es una vocal mayúscula\")\n"
      ],
      "metadata": {
        "colab": {
          "base_uri": "https://localhost:8080/"
        },
        "id": "K-bIji7zX1CO",
        "outputId": "b2f8f32b-0c71-4318-ea78-720e07b693df"
      },
      "execution_count": 7,
      "outputs": [
        {
          "output_type": "stream",
          "name": "stdout",
          "text": [
            "Ingrese una letraa\n",
            "Es una vocal minúscula\n",
            "Ingrese una letraA\n",
            "Es una vocal mayúscula\n"
          ]
        }
      ]
    },
    {
      "cell_type": "code",
      "source": [
        "# Proveer un pequeño mensaje sobre cada lenguaje usando if, elif y else\n",
        "lenguaje = input(\"Elige un lenguaje de programación para aprender (Python, Java, JavaScript, C++, HTML): \").strip().lower()\n",
        "\n",
        "if lenguaje == \"python\":\n",
        "    mensaje = \"Python es famoso por su sintaxis clara y sencilla, ideal para principiantes. Es muy popular en ciencia de datos, desarrollo web, y automatización.\"\n",
        "elif lenguaje == \"java\":\n",
        "    mensaje = \"Java es un lenguaje robusto, ampliamente utilizado en aplicaciones empresariales, desarrollo de Android, y sistemas grandes.\"\n",
        "elif lenguaje == \"javascript\":\n",
        "    mensaje = \"JavaScript es esencial para el desarrollo web, permitiendo crear páginas interactivas, dinámicas y aplicaciones web modernas.\"\n",
        "elif lenguaje == \"c++\":\n",
        "    mensaje = \"C++ es un lenguaje potente y rápido, muy utilizado en el desarrollo de sistemas, videojuegos, y software de alto rendimiento.\"\n",
        "elif lenguaje == \"html\":\n",
        "    mensaje = \"HTML es el lenguaje fundamental para la creación de páginas web, definiendo la estructura y el contenido de las mismas.\"\n",
        "else:\n",
        "    mensaje = \"Lenguaje no reconocido o no soportado. Por favor, elige entre Python, Java, JavaScript, C++, o HTML.\"\n",
        "\n",
        "\n",
        "print(mensaje)\n"
      ],
      "metadata": {
        "colab": {
          "base_uri": "https://localhost:8080/"
        },
        "id": "3YpY_onEY8CA",
        "outputId": "593c04bf-2a78-497d-97c1-aa59eeadf01f"
      },
      "execution_count": 9,
      "outputs": [
        {
          "output_type": "stream",
          "name": "stdout",
          "text": [
            "Elige un lenguaje de programación para aprender (Python, Java, JavaScript, C++, HTML): html\n",
            "HTML es el lenguaje fundamental para la creación de páginas web, definiendo la estructura y el contenido de las mismas.\n"
          ]
        }
      ]
    },
    {
      "cell_type": "code",
      "source": [
        "# Match\n",
        "letra = input(\"Ingrese una letra: \")\n",
        "match letra:\n",
        "    case \"a\" | \"e\" | \"i\" | \"o\" | \"u\":\n",
        "        print(\"Es una vocal minúscula\")\n",
        "    case \"A\" | \"E\" | \"I\" | \"O\" | \"U\":\n",
        "        print(\"Es una vocal mayúscula\")\n",
        "    case _:\n",
        "        print(\"No es una vocal\")\n",
        "\n",
        "# Elif\n",
        "letra = input(\"Ingrese una letra: \")\n",
        "if letra in 'aeiou':\n",
        "    print(\"Es una vocal minúscula\")\n",
        "elif letra in 'AEIOU':\n",
        "    print(\"Es una vocal mayúscula\")\n",
        "else:\n",
        "    print(\"No es una vocal\")\n"
      ],
      "metadata": {
        "colab": {
          "base_uri": "https://localhost:8080/"
        },
        "id": "0h9gFHFMaXhJ",
        "outputId": "6291af04-35df-48d7-c5ad-8e0d41614eb9"
      },
      "execution_count": 10,
      "outputs": [
        {
          "output_type": "stream",
          "name": "stdout",
          "text": [
            "Ingrese una letra: C\n",
            "No es una vocal\n",
            "Ingrese una letra: f\n",
            "No es una vocal\n"
          ]
        }
      ]
    },
    {
      "cell_type": "code",
      "source": [
        "num = int(input(\"Introduce un número: \"))\n",
        "\n",
        "if 0 <= num <= 9:\n",
        "    if num % 2 == 0:\n",
        "        print(f\"{num} es par.\")\n",
        "    else:\n",
        "        print(f\"{num} es impar.\")\n",
        "else:\n",
        "    print(\"El número no pertenece al rango de 0 a 9.\""
      ],
      "metadata": {
        "colab": {
          "base_uri": "https://localhost:8080/",
          "height": 110
        },
        "id": "H-tIQBANbFZh",
        "outputId": "b6812f22-b316-43db-a36a-7ab84b8c8777"
      },
      "execution_count": 11,
      "outputs": [
        {
          "output_type": "error",
          "ename": "SyntaxError",
          "evalue": "incomplete input (<ipython-input-11-a98e91615d13>, line 9)",
          "traceback": [
            "\u001b[0;36m  File \u001b[0;32m\"<ipython-input-11-a98e91615d13>\"\u001b[0;36m, line \u001b[0;32m9\u001b[0m\n\u001b[0;31m    print(\"El número no pertenece al rango de 0 a 9.\"\u001b[0m\n\u001b[0m                                                     ^\u001b[0m\n\u001b[0;31mSyntaxError\u001b[0m\u001b[0;31m:\u001b[0m incomplete input\n"
          ]
        }
      ]
    },
    {
      "cell_type": "code",
      "source": [
        "num = int(input(\"Introduce un número: \"))\n",
        "\n",
        "if 0 <= num <= 9:\n",
        "    if num % 2 == 0:\n",
        "        print(f\"{num} es par.\")\n",
        "    else:\n",
        "        print(f\"{num} es impar.\")\n",
        "else:\n",
        "    print(\"El número no pertenece al rango de 0 a 9.\")\n"
      ],
      "metadata": {
        "colab": {
          "base_uri": "https://localhost:8080/"
        },
        "id": "__uoW1Imb3mK",
        "outputId": "1f096fee-6b42-4abe-bd26-857990f28c07"
      },
      "execution_count": 13,
      "outputs": [
        {
          "output_type": "stream",
          "name": "stdout",
          "text": [
            "Introduce un número: 2\n",
            "2 es par.\n"
          ]
        }
      ]
    },
    {
      "cell_type": "code",
      "source": [
        "num = int(input(\"Introduce un número: \"))\n",
        "\n",
        "print(f\"{num} es par.\") if 0 <= num <= 9 and num % 2 == 0 else print(f\"{num} es impar.\") if 0 <= num <= 9 else print(\"El número no pertenece al rango de 0 a 9.\")\n"
      ],
      "metadata": {
        "id": "btkDnRwJcuac"
      },
      "execution_count": null,
      "outputs": []
    },
    {
      "cell_type": "code",
      "source": [
        "#4 elif\n",
        "numero = int(input(\"Introduce un número del 0 al 9: \"))\n",
        "\n",
        "if 0 <= numero <= 9:\n",
        "    if numero % 2 == 0:\n",
        "        print(f\"El número {numero} es par.\")\n",
        "    elif numero % 2 !=0:\n",
        "        print(f\"El número {numero} es impar.\")\n",
        "else:\n",
        "    print(\"El número no pertenece al rango del 0 al 9.\")\n",
        "\n"
      ],
      "metadata": {
        "colab": {
          "base_uri": "https://localhost:8080/"
        },
        "id": "6ppH-jKCd0Y9",
        "outputId": "61987d4b-e896-4b07-8de8-fc2b9c7985aa"
      },
      "execution_count": 15,
      "outputs": [
        {
          "output_type": "stream",
          "name": "stdout",
          "text": [
            "Introduce un número del 0 al 9: 9\n",
            "El número 9 es impar.\n"
          ]
        }
      ]
    },
    {
      "cell_type": "code",
      "source": [
        "\n",
        "#Match\n",
        "numero = int(input(\"Introduce un número del 0 al 9: \"))\n",
        "\n",
        "match numero:\n",
        "    case _ if 0 <= numero <= 9:\n",
        "        match numero % 2:\n",
        "            case 0:\n",
        "                print(f\"El número {numero} es par.\")\n",
        "            case 1:\n",
        "                print(f\"El número {numero} es impar.\")\n",
        "    case _:print(\"El número no pertenece al rango del 0 al 9.\")\n"
      ],
      "metadata": {
        "colab": {
          "base_uri": "https://localhost:8080/"
        },
        "id": "KFgEdGnLeAqs",
        "outputId": "ccd0d61f-c8b1-4ded-80e3-73dce0c55526"
      },
      "execution_count": 19,
      "outputs": [
        {
          "output_type": "stream",
          "name": "stdout",
          "text": [
            "Introduce un número del 0 al 9: 8\n",
            "El número 8 es par.\n"
          ]
        }
      ]
    },
    {
      "cell_type": "code",
      "source": [
        "#2 Se presentan 3 personas: Definir cuales el mayor e los 3. Definir de acuerdo a su edad si es un adulto, adolecente o niño\n",
        "# Ingresar las edades de las 3 personas\n",
        "edad1 = int(input(\"Ingresa la edad de la primera persona: \"))\n",
        "edad2 = int(input(\"Ingresa la edad de la segunda persona: \"))\n",
        "edad3 = int(input(\"Ingresa la edad de la tercera persona: \"))\n",
        "\n",
        "# Encontrar la persona de mayor edad\n",
        "mayor_edad = edad1 if (edad1 > edad2 and edad1 > edad3) else (\n",
        "             edad2 if (edad2 > edad3) else edad3)\n",
        "\n",
        "# Clasificar cada persona usando operadores ternarios\n",
        "categoria1 = \"Adulto\" if edad1 >= 18 else \"Adolescente\" if edad1 >= 13 else \"Niño\"\n",
        "categoria2 = \"Adulto\" if edad2 >= 18 else \"Adolescente\" if edad2 >= 13 else \"Niño\"\n",
        "categoria3 = \"Adulto\" if edad3 >= 18 else \"Adolescente\" if edad3 >= 13 else \"Niño\"\n",
        "\n",
        "# Imprimir el resultado del mayor y las categorías\n",
        "print(f\"La persona de mayor edad tiene {mayor_edad} años.\")\n",
        "print(f\"La primera persona es un {categoria1}.\")\n",
        "print(f\"La segunda persona es un {categoria2}.\")\n",
        "print(f\"La tercera persona es un {categoria3}.\")"
      ],
      "metadata": {
        "colab": {
          "base_uri": "https://localhost:8080/"
        },
        "id": "BdUGXEQhfFM-",
        "outputId": "415f668e-780c-4d2c-df2e-f9d36378efe1"
      },
      "execution_count": 20,
      "outputs": [
        {
          "output_type": "stream",
          "name": "stdout",
          "text": [
            "Ingresa la edad de la primera persona: 13\n",
            "Ingresa la edad de la segunda persona: 40\n",
            "Ingresa la edad de la tercera persona: 80\n",
            "La persona de mayor edad tiene 80 años.\n",
            "La primera persona es un Adolescente.\n",
            "La segunda persona es un Adulto.\n",
            "La tercera persona es un Adulto.\n"
          ]
        }
      ]
    },
    {
      "cell_type": "code",
      "source": [
        "num = int(input(\"Introduce un número: \"))\n",
        "\n",
        "print(f\"{num} es par.\") if 0 <= num <= 9 and num in [0, 2, 4, 6, 8] else print(f\"{num} es impar.\") if 0 <= num <= 9 else print(\"El número no pertenece al rango de 0 a 9.\")\n"
      ],
      "metadata": {
        "colab": {
          "base_uri": "https://localhost:8080/"
        },
        "id": "VQfRGhvUgV__",
        "outputId": "16b24d72-72fa-4a6c-b40e-4bc539739011"
      },
      "execution_count": 21,
      "outputs": [
        {
          "output_type": "stream",
          "name": "stdout",
          "text": [
            "Introduce un número: 4\n",
            "4 es par.\n"
          ]
        }
      ]
    },
    {
      "cell_type": "code",
      "source": [
        "num = int(input(\"Introduce un número: \"))\n",
        "\n",
        "print(f\"{num} es par.\") if 0 <= num and num <= 9 and (num == 0 and num == 0 or num == 2 and num == 2 or num == 4 and num == 4 or num == 6 and num == 6 or num == 8 and num == 8) else print(f\"{num} es impar.\") if 0 <= num and num <= 9 else print(\"El número no pertenece al rango de 0 a 9.\")\n"
      ],
      "metadata": {
        "colab": {
          "base_uri": "https://localhost:8080/"
        },
        "id": "XLBRQ6Rignd3",
        "outputId": "421bc978-2b38-4424-86d3-4f90f84b111e"
      },
      "execution_count": 22,
      "outputs": [
        {
          "output_type": "stream",
          "name": "stdout",
          "text": [
            "Introduce un número: 4\n",
            "4 es par.\n"
          ]
        }
      ]
    },
    {
      "cell_type": "code",
      "source": [],
      "metadata": {
        "id": "FdhLu3D_gnKn"
      },
      "execution_count": null,
      "outputs": []
    }
  ]
}